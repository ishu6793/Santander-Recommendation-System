{
 "cells": [
  {
   "cell_type": "code",
   "execution_count": 1,
   "metadata": {
    "scrolled": false
   },
   "outputs": [
    {
     "data": {
      "image/png": "[encoded data removed]",
      "text/plain": [
       "<IPython.core.display.Image object>"
      ]
     },
     "metadata": {},
     "output_type": "display_data"
    }
   ],
   "source": [
    "from IPython.display import display, Image\n",
    "\n",
    "display(Image(filename='/Users/gaurav/Downloads/santander-logo.png'))"
   ]
  },
  {
   "cell_type": "code",
   "execution_count": 1,
   "metadata": {},
   "outputs": [
    {
     "name": "stdout",
     "output_type": "stream",
     "text": [
      "Populating the interactive namespace from numpy and matplotlib\n"
     ]
    },
    {
     "name": "stderr",
     "output_type": "stream",
     "text": [
      "/Users/gaurav/opt/anaconda3/lib/python3.7/site-packages/IPython/core/magics/pylab.py:160: UserWarning: pylab import has clobbered these variables: ['datetime']\n",
      "`%matplotlib` prevents importing * from pylab and numpy\n",
      "  \"\\n`%matplotlib` prevents importing * from pylab and numpy\"\n"
     ]
    }
   ],
   "source": [
    "import pandas as pd\n",
    "import numpy as np\n",
    "import matplotlib.pyplot as plt\n",
    "import seaborn as sns\n",
    "pd.set_option('display.max_columns', None)\n",
    "from datetime import datetime\n",
    "import timeit\n",
    "%matplotlib inline\n",
    "%pylab inline\n",
    "pylab.rcParams['figure.figsize'] = (15, 11)\n",
    "import warnings\n",
    "warnings.filterwarnings(\"ignore\")"
   ]
  },
  {
   "cell_type": "markdown",
   "metadata": {},
   "source": [
    "# Creating Feature Column and Target Column"
   ]
  },
  {
   "cell_type": "code",
   "execution_count": 2,
   "metadata": {},
   "outputs": [],
   "source": [
    "# columns to be used as features #\n",
    "feature_cols = [\"ind_empleado\",\"pais_residencia\",\"sexo\",\"age\", \"ind_nuevo\", \"antiguedad\", \"nomprov\", \"segmento\"]\n",
    "\n",
    "dtype_list = {'ind_cco_fin_ult1': 'float16', 'ind_deme_fin_ult1': 'float16', 'ind_aval_fin_ult1': 'float16', \n",
    "              'ind_valo_fin_ult1': 'float16', 'ind_reca_fin_ult1': 'float16', 'ind_ctju_fin_ult1': 'float16',\n",
    "              'ind_cder_fin_ult1': 'float16', 'ind_plan_fin_ult1': 'float16', 'ind_fond_fin_ult1': 'float16', \n",
    "              'ind_hip_fin_ult1': 'float16', 'ind_pres_fin_ult1': 'float16', 'ind_nomina_ult1': 'float16', \n",
    "              'ind_cno_fin_ult1': 'float16', 'ncodpers': 'int64', 'ind_ctpp_fin_ult1': 'float16', \n",
    "              'ind_ahor_fin_ult1': 'float16', 'ind_dela_fin_ult1': 'float16', 'ind_ecue_fin_ult1': 'float16', \n",
    "              'ind_nom_pens_ult1': 'float16', 'ind_recibo_ult1': 'float16', 'ind_deco_fin_ult1': 'float16', \n",
    "              'ind_tjcr_fin_ult1': 'float16', 'ind_ctop_fin_ult1': 'float16', 'ind_viv_fin_ult1': 'float16', \n",
    "              'ind_ctma_fin_ult1': 'float16'}\n",
    "\n",
    "target_cols = ['ind_ahor_fin_ult1','ind_aval_fin_ult1','ind_cco_fin_ult1','ind_cder_fin_ult1','ind_cno_fin_ult1',\n",
    "               'ind_ctju_fin_ult1','ind_ctma_fin_ult1','ind_ctop_fin_ult1','ind_ctpp_fin_ult1','ind_deco_fin_ult1',\n",
    "               'ind_deme_fin_ult1','ind_dela_fin_ult1','ind_ecue_fin_ult1','ind_fond_fin_ult1','ind_hip_fin_ult1',\n",
    "               'ind_plan_fin_ult1','ind_pres_fin_ult1','ind_reca_fin_ult1','ind_tjcr_fin_ult1','ind_valo_fin_ult1',\n",
    "               'ind_viv_fin_ult1','ind_nomina_ult1','ind_nom_pens_ult1','ind_recibo_ult1']\n",
    "\n",
    "dates =['fecha_dato','ult_fec_cli_1t']"
   ]
  },
  {
   "cell_type": "markdown",
   "metadata": {},
   "source": [
    "# Spanish to English Column Name Dictionary"
   ]
  },
  {
   "cell_type": "code",
   "execution_count": 3,
   "metadata": {},
   "outputs": [],
   "source": [
    "eng_num_features = ['Employee_Index','Age','New_customer', 'Relnshp_Mnths', 'Relnshp_flag','Residence_flag', 'Forigner_flag', 'Emp_spouse_flag','Deceased_flag', 'Activity_flag', 'Gross_household_income']\n",
    "eng_target_features = ['Saving_account', 'Guarantees', 'Cur_account', 'Derivative_account', 'Payroll_account',\n",
    "                'Junior_account', 'Particular_acct1', 'Particular_acct2', 'Particular_acct3', 'Short_term_deposites',\n",
    "                'Med_term_deposites', 'Long_term_deposites', 'e-account', 'Funds', 'Mortgage', 'Pension', 'Loans',\n",
    "                'Taxes', 'Credit_card', 'Securities', 'Home_account', 'Payroll', 'Pensions', 'Direct_debit']"
   ]
  },
  {
   "cell_type": "code",
   "execution_count": 4,
   "metadata": {},
   "outputs": [],
   "source": [
    "span_eng_feat_dict = {'fecha_dato': 'Month_status_date', 'ncodpers': 'Customer_ID', 'ind_empleado': 'Employee_Index',\n",
    "                     'pais_residencia':'Customer_country', 'sexo': 'Sex', 'age': 'Age', 'fecha_alta': 'Join_date',\n",
    "                     'ind_nuevo': 'New_customer', 'antiguedad':'Relnshp_Mnths', 'indrel': 'Relnshp_flag',\n",
    "                     'ult_fec_cli_1t': 'Last_date_Prim_Cust', 'indrel_1mes': 'Cust_type_beg_Mth', 'tiprel_1mes':'Cust_Reln_type_beg_mth',\n",
    "                     'indresi': 'Residence_flag', 'indext': 'Forigner_flag', 'conyuemp': 'Emp_spouse_flag', 'canal_entrada':'Channel_when_joined',\n",
    "                     'indfall': 'Deceased_flag','tipodom':'Address_type', 'cod_prov':'Customer_address','nomprov': 'Address_detail', \n",
    "                     'ind_actividad_cliente': 'Activity_flag', 'renta': 'Gross_household_income', 'segmento' :'Segment' }"
   ]
  },
  {
   "cell_type": "markdown",
   "metadata": {},
   "source": [
    "# Reading Train and Test Dataset"
   ]
  },
  {
   "cell_type": "code",
   "execution_count": 5,
   "metadata": {},
   "outputs": [],
   "source": [
    "#importing dataset using pandas with specified datatype\n",
    "train = pd.read_csv(\"/Users/gaurav/Downloads/santander-product-recommendation (2)/train_ver2.csv\",dtype=dtype_list, na_values=['NA', 'NaN','     NA',' NA'],parse_dates=dates)"
   ]
  },
  {
   "cell_type": "code",
   "execution_count": 6,
   "metadata": {},
   "outputs": [],
   "source": [
    "test = pd.read_csv(\"/Users/gaurav/Downloads/santander-product-recommendation (2)/test_ver2.csv\",dtype=dtype_list, na_values=['NA', 'NaN','     NA',' NA'], parse_dates=dates)"
   ]
  },
  {
   "cell_type": "markdown",
   "metadata": {},
   "source": [
    "# Train And Test Size"
   ]
  },
  {
   "cell_type": "code",
   "execution_count": 8,
   "metadata": {},
   "outputs": [
    {
     "name": "stdout",
     "output_type": "stream",
     "text": [
      "Size of train dataset: 13647309 rows and 48 columns\n",
      "Size of test dataset: 929615 rows and 24 columns\n"
     ]
    }
   ],
   "source": [
    "print(\"Size of train dataset: {} rows and {} columns\".format(train.shape[0],train.shape[1] ))\n",
    "print(\"Size of test dataset: {} rows and {} columns\".format(test.shape[0],test.shape[1] ))"
   ]
  },
  {
   "cell_type": "markdown",
   "metadata": {},
   "source": [
    "# Change Column Name from Spanish Language to English Language for easy Understanbility "
   ]
  },
  {
   "cell_type": "code",
   "execution_count": 7,
   "metadata": {},
   "outputs": [],
   "source": [
    "train.columns = ['Month_status_date', 'Customer_ID', 'Employee_Index', 'Customer_country', 'Sex', 'Age', 'Join_date',\n",
    "                'New_customer', 'Relnshp_Mnths', 'Relnshp_flag','Last_date_Prim_Cust', 'Cust_type_beg_Mth', 'Cust_Reln_type_beg_mth',\n",
    "                'Residence_flag', 'Forigner_flag', 'Emp_spouse_flag', 'Channel_when_joined', 'Deceased_flag', \n",
    "                'Address_type', 'Customer_address', 'Address_detail', 'Activity_flag', 'Gross_household_income',\n",
    "                'Segment', 'Saving_account', 'Guarantees', 'Cur_account', 'Derivative_account', 'Payroll_account',\n",
    "                'Junior_account', 'Particular_acct1', 'Particular_acct2', 'Particular_acct3', 'Short_term_deposites',\n",
    "                'Med_term_deposites', 'Long_term_deposites', 'e-account', 'Funds', 'Mortgage', 'Pension', 'Loans',\n",
    "                'Taxes', 'Credit_card', 'Securities', 'Home_account', 'Payroll', 'Pensions', 'Direct_debit']"
   ]
  },
  {
   "cell_type": "code",
   "execution_count": 8,
   "metadata": {},
   "outputs": [],
   "source": [
    "test.columns = ['Month_status_date', 'Customer_ID', 'Employee_Index', 'Customer_country', 'Sex', 'Age', 'Join_date',\n",
    "                'New_customer', 'Relnshp_Mnths', 'Relnshp_flag','Last_date_Prim_Cust', 'Cust_type_beg_Mth', 'Cust_Reln_type_beg_mth',\n",
    "                'Residence_flag', 'Forigner_flag', 'Emp_spouse_flag', 'Channel_when_joined', 'Deceased_flag', \n",
    "                'Address_type', 'Customer_address', 'Address_detail', 'Activity_flag', 'Gross_household_income',\n",
    "                'Segment']"
   ]
  },
  {
   "cell_type": "markdown",
   "metadata": {},
   "source": [
    "# Train And Test Data type Info"
   ]
  },
  {
   "cell_type": "code",
   "execution_count": 11,
   "metadata": {},
   "outputs": [
    {
     "name": "stdout",
     "output_type": "stream",
     "text": [
      "<class 'pandas.core.frame.DataFrame'>\n",
      "RangeIndex: 13647309 entries, 0 to 13647308\n",
      "Data columns (total 48 columns):\n",
      " #   Column                  Dtype         \n",
      "---  ------                  -----         \n",
      " 0   Month_status_date       datetime64[ns]\n",
      " 1   Customer_ID             int64         \n",
      " 2   Employee_Index          object        \n",
      " 3   Customer_country        object        \n",
      " 4   Sex                     object        \n",
      " 5   Age                     float64       \n",
      " 6   Join_date               object        \n",
      " 7   New_customer            float64       \n",
      " 8   Relnshp_Mnths           float64       \n",
      " 9   Relnshp_flag            float64       \n",
      " 10  Last_date_Prim_Cust     datetime64[ns]\n",
      " 11  Cust_type_beg_Mth       object        \n",
      " 12  Cust_Reln_type_beg_mth  object        \n",
      " 13  Residence_flag          object        \n",
      " 14  Forigner_flag           object        \n",
      " 15  Emp_spouse_flag         object        \n",
      " 16  Channel_when_joined     object        \n",
      " 17  Deceased_flag           object        \n",
      " 18  Address_type            float64       \n",
      " 19  Customer_address        float64       \n",
      " 20  Address_detail          object        \n",
      " 21  Activity_flag           float64       \n",
      " 22  Gross_household_income  float64       \n",
      " 23  Segment                 object        \n",
      " 24  Saving_account          float16       \n",
      " 25  Guarantees              float16       \n",
      " 26  Cur_account             float16       \n",
      " 27  Derivative_account      float16       \n",
      " 28  Payroll_account         float16       \n",
      " 29  Junior_account          float16       \n",
      " 30  Particular_acct1        float16       \n",
      " 31  Particular_acct2        float16       \n",
      " 32  Particular_acct3        float16       \n",
      " 33  Short_term_deposites    float16       \n",
      " 34  Med_term_deposites      float16       \n",
      " 35  Long_term_deposites     float16       \n",
      " 36  e-account               float16       \n",
      " 37  Funds                   float16       \n",
      " 38  Mortgage                float16       \n",
      " 39  Pension                 float16       \n",
      " 40  Loans                   float16       \n",
      " 41  Taxes                   float16       \n",
      " 42  Credit_card             float16       \n",
      " 43  Securities              float16       \n",
      " 44  Home_account            float16       \n",
      " 45  Payroll                 float16       \n",
      " 46  Pensions                float16       \n",
      " 47  Direct_debit            float16       \n",
      "dtypes: datetime64[ns](2), float16(24), float64(8), int64(1), object(13)\n",
      "memory usage: 3.1+ GB\n"
     ]
    }
   ],
   "source": [
    "train.info()"
   ]
  },
  {
   "cell_type": "code",
   "execution_count": 12,
   "metadata": {},
   "outputs": [
    {
     "name": "stdout",
     "output_type": "stream",
     "text": [
      "<class 'pandas.core.frame.DataFrame'>\n",
      "RangeIndex: 929615 entries, 0 to 929614\n",
      "Data columns (total 24 columns):\n",
      " #   Column                  Non-Null Count   Dtype         \n",
      "---  ------                  --------------   -----         \n",
      " 0   Month_status_date       929615 non-null  datetime64[ns]\n",
      " 1   Customer_ID             929615 non-null  int64         \n",
      " 2   Employee_Index          929615 non-null  object        \n",
      " 3   Customer_country        929615 non-null  object        \n",
      " 4   Sex                     929610 non-null  object        \n",
      " 5   Age                     929615 non-null  int64         \n",
      " 6   Join_date               929615 non-null  object        \n",
      " 7   New_customer            929615 non-null  int64         \n",
      " 8   Relnshp_Mnths           929615 non-null  int64         \n",
      " 9   Relnshp_flag            929615 non-null  int64         \n",
      " 10  Last_date_Prim_Cust     1683 non-null    datetime64[ns]\n",
      " 11  Cust_type_beg_Mth       929592 non-null  float64       \n",
      " 12  Cust_Reln_type_beg_mth  929592 non-null  object        \n",
      " 13  Residence_flag          929615 non-null  object        \n",
      " 14  Forigner_flag           929615 non-null  object        \n",
      " 15  Emp_spouse_flag         104 non-null     object        \n",
      " 16  Channel_when_joined     927534 non-null  object        \n",
      " 17  Deceased_flag           929615 non-null  object        \n",
      " 18  Address_type            929615 non-null  int64         \n",
      " 19  Customer_address        925619 non-null  float64       \n",
      " 20  Address_detail          925619 non-null  object        \n",
      " 21  Activity_flag           929615 non-null  int64         \n",
      " 22  Gross_household_income  929615 non-null  object        \n",
      " 23  Segment                 927367 non-null  object        \n",
      "dtypes: datetime64[ns](2), float64(2), int64(7), object(13)\n",
      "memory usage: 170.2+ MB\n"
     ]
    }
   ],
   "source": [
    "test.info()"
   ]
  },
  {
   "cell_type": "code",
   "execution_count": 13,
   "metadata": {},
   "outputs": [
    {
     "data": {
      "text/plain": [
       "Pensions                     16063\n",
       "Payroll                      16063\n",
       "Activity_flag                27734\n",
       "Deceased_flag                27734\n",
       "Forigner_flag                27734\n",
       "Relnshp_flag                 27734\n",
       "Employee_Index               27734\n",
       "New_customer                 27734\n",
       "Customer_country             27734\n",
       "Relnshp_Mnths                27734\n",
       "Age                          27734\n",
       "Residence_flag               27734\n",
       "Join_date                    27734\n",
       "Address_type                 27735\n",
       "Sex                          27804\n",
       "Customer_address             93591\n",
       "Address_detail               93591\n",
       "Cust_Reln_type_beg_mth      149781\n",
       "Cust_type_beg_Mth           149781\n",
       "Channel_when_joined         186126\n",
       "Segment                     189368\n",
       "Gross_household_income     2794375\n",
       "Last_date_Prim_Cust       13622516\n",
       "Emp_spouse_flag           13645501\n",
       "dtype: int64"
      ]
     },
     "execution_count": 13,
     "metadata": {},
     "output_type": "execute_result"
    },
    {
     "data": {
      "image/png": "[encoded data removed]",
      "text/plain": [
       "<Figure size 1080x792 with 1 Axes>"
      ]
     },
     "metadata": {
      "needs_background": "light"
     },
     "output_type": "display_data"
    }
   ],
   "source": [
    "mis_train = train.isnull().sum()\n",
    "mis_train = mis_train[mis_train>0]\n",
    "mis_train.sort_values(inplace = True)\n",
    "mis_train.plot.bar(cmap='viridis')\n",
    "mis_train"
   ]
  },
  {
   "cell_type": "code",
   "execution_count": 14,
   "metadata": {},
   "outputs": [
    {
     "data": {
      "text/plain": [
       "Sex                            5\n",
       "Cust_type_beg_Mth             23\n",
       "Cust_Reln_type_beg_mth        23\n",
       "Channel_when_joined         2081\n",
       "Segment                     2248\n",
       "Customer_address            3996\n",
       "Address_detail              3996\n",
       "Last_date_Prim_Cust       927932\n",
       "Emp_spouse_flag           929511\n",
       "dtype: int64"
      ]
     },
     "execution_count": 14,
     "metadata": {},
     "output_type": "execute_result"
    },
    {
     "data": {
      "image/png": "[encoded data removed]",
      "text/plain": [
       "<Figure size 1080x792 with 1 Axes>"
      ]
     },
     "metadata": {
      "needs_background": "light"
     },
     "output_type": "display_data"
    }
   ],
   "source": [
    "mis_test = test.isnull().sum()\n",
    "mis_test = mis_test[mis_test>0]\n",
    "mis_test.sort_values(inplace = True)\n",
    "mis_test.plot.bar(cmap='viridis')\n",
    "mis_test"
   ]
  },
  {
   "cell_type": "code",
   "execution_count": 15,
   "metadata": {},
   "outputs": [
    {
     "name": "stdout",
     "output_type": "stream",
     "text": [
      "Unique customers in train: 956645\n",
      "Unique customers in test: 929615\n",
      "Common customers in train and test: 929615\n"
     ]
    }
   ],
   "source": [
    "print(\"Unique customers in train:\", len(train['Customer_ID'].unique()))\n",
    "print(\"Unique customers in test:\", len(test['Customer_ID'].unique()))\n",
    "print(\"Common customers in train and test:\", len(set(train['Customer_ID'].unique()).intersection(set(test['Customer_ID'].unique()))))"
   ]
  },
  {
   "cell_type": "markdown",
   "metadata": {},
   "source": [
    "Every customer in test is also there in train data"
   ]
  },
  {
   "cell_type": "markdown",
   "metadata": {},
   "source": [
    "# DATA CLEANING"
   ]
  },
  {
   "cell_type": "code",
   "execution_count": 16,
   "metadata": {
    "scrolled": false
   },
   "outputs": [
    {
     "data": {
      "image/png": "[encoded data removed]",
      "text/plain": [
       "<IPython.core.display.Image object>"
      ]
     },
     "metadata": {},
     "output_type": "display_data"
    }
   ],
   "source": [
    "from IPython.display import display, Image\n",
    "\n",
    "display(Image(filename='/Users/gaurav/Downloads/imputation.png'))"
   ]
  },
  {
   "cell_type": "markdown",
   "metadata": {},
   "source": [
    "There were about 4 kinds of imputation strategy implement for this data set. For the features in the ‘Unknown’ column, the missing values were all labeled as ‘unknown’. The reason is that the features in this column are more customer’s demographic information. Therefore, in order not to make any assumption, labeling ‘unknown’ was the only way. For the features in the Common Type column, the median of each features were imputed for the missing values because those were the features that described the relationship between the bank or continued variable. The features in the others were imputed by couple different methods. Beside the ‘age’ feature, the missing values of rest of the features were fill in based on treating those observation as new customers. From the EDA, we were discovered that those missing values were the same observations. And within those observations, ‘all the account activities were under 6 months, which were also the bench mark for being a new customers. For the ‘age’ features, the after scaled mean were using for imputation in order to avoid some skewness in the data. Last but not least, there were two kinds of products having missing values. Due to the evaluation penalized the false negative, we would like to assume that the products havent been purchased yet."
   ]
  },
  {
   "cell_type": "markdown",
   "metadata": {},
   "source": [
    "## COMMON TYPE CATEGORY"
   ]
  },
  {
   "cell_type": "markdown",
   "metadata": {},
   "source": [
    "### Impute Customer Type"
   ]
  },
  {
   "cell_type": "code",
   "execution_count": 9,
   "metadata": {},
   "outputs": [
    {
     "data": {
      "text/plain": [
       "149781"
      ]
     },
     "execution_count": 9,
     "metadata": {},
     "output_type": "execute_result"
    }
   ],
   "source": [
    "train.Cust_type_beg_Mth.isnull().sum()"
   ]
  },
  {
   "cell_type": "code",
   "execution_count": 10,
   "metadata": {},
   "outputs": [
    {
     "data": {
      "text/plain": [
       "array([1.0, nan, 3.0, 2.0, '1.0', '1', '3', '3.0', '2.0', '4.0', 'P', '4',\n",
       "       4.0, '2'], dtype=object)"
      ]
     },
     "execution_count": 10,
     "metadata": {},
     "output_type": "execute_result"
    }
   ],
   "source": [
    "train.Cust_type_beg_Mth.unique()"
   ]
  },
  {
   "cell_type": "code",
   "execution_count": 11,
   "metadata": {},
   "outputs": [
    {
     "data": {
      "text/plain": [
       "1.0    7277607\n",
       "1.0    4017746\n",
       "1      2195328\n",
       "3.0       1804\n",
       "3.0       1409\n",
       "3         1137\n",
       "P          874\n",
       "2          483\n",
       "2.0        479\n",
       "2.0        355\n",
       "4.0        143\n",
       "4.0         93\n",
       "4           70\n",
       "Name: Cust_type_beg_Mth, dtype: int64"
      ]
     },
     "execution_count": 11,
     "metadata": {},
     "output_type": "execute_result"
    }
   ],
   "source": [
    "train.Cust_type_beg_Mth.value_counts()"
   ]
  },
  {
   "cell_type": "code",
   "execution_count": 12,
   "metadata": {},
   "outputs": [],
   "source": [
    "train.Cust_Reln_type_beg_mth = train.Cust_Reln_type_beg_mth.astype(\"category\")\n",
    "\n",
    "# As suggested by @StephenSmith\n",
    "map_dict = { 1.0  : \"1\",\n",
    "            \"1.0\" : \"1\",\n",
    "            \"1\"   : \"1\",\n",
    "            \"3.0\" : \"3\",\n",
    "            \"P\"   : \"P\",\n",
    "            3.0   : \"3\",\n",
    "            2.0   : \"2\",\n",
    "            \"3\"   : \"3\",\n",
    "            \"2.0\" : \"2\",\n",
    "            \"4.0\" : \"4\",\n",
    "            \"4\"   : \"4\",\n",
    "            \"2\"   : \"2\",\n",
    "            4.0   : \"4\"}\n",
    "\n",
    "train.Cust_type_beg_Mth.fillna(\"P\",inplace=True)\n",
    "train.Cust_type_beg_Mth = train.Cust_type_beg_Mth.apply(lambda x: map_dict.get(x,x))\n",
    "train.Cust_type_beg_Mth = train.Cust_type_beg_Mth.astype(object)"
   ]
  },
  {
   "cell_type": "code",
   "execution_count": 13,
   "metadata": {},
   "outputs": [
    {
     "data": {
      "text/plain": [
       "array(['1', 'P', '3', '2', '4'], dtype=object)"
      ]
     },
     "execution_count": 13,
     "metadata": {},
     "output_type": "execute_result"
    }
   ],
   "source": [
    "train.Cust_type_beg_Mth.unique()"
   ]
  },
  {
   "cell_type": "code",
   "execution_count": 14,
   "metadata": {},
   "outputs": [
    {
     "data": {
      "text/plain": [
       "23"
      ]
     },
     "execution_count": 14,
     "metadata": {},
     "output_type": "execute_result"
    }
   ],
   "source": [
    "test.Cust_type_beg_Mth.isnull().sum()"
   ]
  },
  {
   "cell_type": "code",
   "execution_count": 15,
   "metadata": {},
   "outputs": [
    {
     "data": {
      "text/plain": [
       "array([ 1.,  3., nan])"
      ]
     },
     "execution_count": 15,
     "metadata": {},
     "output_type": "execute_result"
    }
   ],
   "source": [
    "test.Cust_type_beg_Mth.unique()"
   ]
  },
  {
   "cell_type": "code",
   "execution_count": 16,
   "metadata": {},
   "outputs": [],
   "source": [
    "test.Cust_Reln_type_beg_mth = test.Cust_Reln_type_beg_mth.astype(\"category\")\n",
    "\n",
    "# As suggested by @StephenSmith\n",
    "map_dict = { 1.0  : \"1\",\n",
    "            \"1.0\" : \"1\",\n",
    "            \"1\"   : \"1\",\n",
    "            \"3.0\" : \"3\",\n",
    "            \"P\"   : \"P\",\n",
    "            3.0   : \"3\",\n",
    "            2.0   : \"2\",\n",
    "            \"3\"   : \"3\",\n",
    "            \"2.0\" : \"2\",\n",
    "            \"4.0\" : \"4\",\n",
    "            \"4\"   : \"4\",\n",
    "            \"2\"   : \"2\",\n",
    "            4.0   : \"4\"}\n",
    "\n",
    "test.Cust_type_beg_Mth.fillna(\"P\",inplace=True)\n",
    "test.Cust_type_beg_Mth = test.Cust_type_beg_Mth.apply(lambda x: map_dict.get(x,x))\n",
    "test.Cust_type_beg_Mth = test.Cust_type_beg_Mth.astype(object)"
   ]
  },
  {
   "cell_type": "code",
   "execution_count": 17,
   "metadata": {},
   "outputs": [
    {
     "data": {
      "text/plain": [
       "array(['1', '3', 'P'], dtype=object)"
      ]
     },
     "execution_count": 17,
     "metadata": {},
     "output_type": "execute_result"
    }
   ],
   "source": [
    "test.Cust_type_beg_Mth.unique()"
   ]
  },
  {
   "cell_type": "markdown",
   "metadata": {},
   "source": [
    "### Impute Activity Index"
   ]
  },
  {
   "cell_type": "code",
   "execution_count": 18,
   "metadata": {},
   "outputs": [
    {
     "data": {
      "text/plain": [
       "27734"
      ]
     },
     "execution_count": 18,
     "metadata": {},
     "output_type": "execute_result"
    }
   ],
   "source": [
    "np.sum(train[\"Activity_flag\"].isnull())"
   ]
  },
  {
   "cell_type": "code",
   "execution_count": 19,
   "metadata": {},
   "outputs": [
    {
     "data": {
      "text/plain": [
       "0.0    7384390\n",
       "1.0    6235185\n",
       "Name: Activity_flag, dtype: int64"
      ]
     },
     "execution_count": 19,
     "metadata": {},
     "output_type": "execute_result"
    }
   ],
   "source": [
    "train['Activity_flag'].value_counts()"
   ]
  },
  {
   "cell_type": "code",
   "execution_count": 20,
   "metadata": {},
   "outputs": [
    {
     "data": {
      "text/plain": [
       "0.0"
      ]
     },
     "execution_count": 20,
     "metadata": {},
     "output_type": "execute_result"
    }
   ],
   "source": [
    "train[\"Activity_flag\"].median()"
   ]
  },
  {
   "cell_type": "code",
   "execution_count": 21,
   "metadata": {},
   "outputs": [],
   "source": [
    "train.loc[train.Activity_flag.isnull(),\"Activity_flag\"] = train[\"Activity_flag\"].median()"
   ]
  },
  {
   "cell_type": "markdown",
   "metadata": {},
   "source": [
    "### Impute Address detail"
   ]
  },
  {
   "cell_type": "code",
   "execution_count": 22,
   "metadata": {},
   "outputs": [
    {
     "data": {
      "text/plain": [
       "array(['MALAGA', 'CIUDAD REAL', 'ZARAGOZA', 'TOLEDO', 'LEON', 'GIPUZKOA',\n",
       "       'CACERES', 'GIRONA', 'ZAMORA', 'BARCELONA', 'SALAMANCA', 'BURGOS',\n",
       "       'HUESCA', 'NAVARRA', 'AVILA', 'SEGOVIA', 'LUGO', 'LERIDA',\n",
       "       'MADRID', 'ALICANTE', 'SORIA', 'SEVILLA', 'CANTABRIA',\n",
       "       'BALEARS, ILLES', 'VALLADOLID', 'PONTEVEDRA', 'VALENCIA', 'TERUEL',\n",
       "       'CORUÑA, A', 'OURENSE', 'JAEN', 'CUENCA', 'BIZKAIA', 'CASTELLON',\n",
       "       'RIOJA, LA', 'ALBACETE', 'BADAJOZ', 'MURCIA', 'CADIZ', nan,\n",
       "       'ALMERIA', 'GUADALAJARA', 'PALENCIA', 'PALMAS, LAS', 'CORDOBA',\n",
       "       'HUELVA', 'GRANADA', 'ASTURIAS', 'SANTA CRUZ DE TENERIFE',\n",
       "       'MELILLA', 'TARRAGONA', 'ALAVA', 'CEUTA'], dtype=object)"
      ]
     },
     "execution_count": 22,
     "metadata": {},
     "output_type": "execute_result"
    }
   ],
   "source": [
    "train.Address_detail.unique()"
   ]
  },
  {
   "cell_type": "markdown",
   "metadata": {},
   "source": [
    "There was an issue with the unicode character ñ in A Coruña. I'll manually fix it,"
   ]
  },
  {
   "cell_type": "code",
   "execution_count": 23,
   "metadata": {},
   "outputs": [],
   "source": [
    "train.loc[train.Address_detail==\"CORU\\xc3\\x91A, A\",\"Address_detail\"] = \"CORUNA, A\""
   ]
  },
  {
   "cell_type": "markdown",
   "metadata": {},
   "source": [
    "There's some rows missing a city that I'll relabel as later I have to calculate Income based on Address details"
   ]
  },
  {
   "cell_type": "code",
   "execution_count": 24,
   "metadata": {},
   "outputs": [],
   "source": [
    "train.loc[train.Address_detail.isnull(),\"Address_detail\"] = \"UNKNOWN\""
   ]
  },
  {
   "cell_type": "code",
   "execution_count": 25,
   "metadata": {},
   "outputs": [
    {
     "data": {
      "text/plain": [
       "array(['MADRID', 'ALICANTE', 'CORUÑA, A', 'BARCELONA', 'BALEARS, ILLES',\n",
       "       'PALMAS, LAS', 'TOLEDO', 'CORDOBA', 'MURCIA', 'CUENCA', 'MALAGA',\n",
       "       'JAEN', 'CADIZ', 'SEVILLA', 'VALENCIA', 'CASTELLON', 'BADAJOZ',\n",
       "       'OURENSE', 'GIRONA', 'GRANADA', 'CIUDAD REAL', 'CANTABRIA',\n",
       "       'CACERES', 'MELILLA', 'ASTURIAS', 'ZARAGOZA', 'HUESCA', 'TERUEL',\n",
       "       'LUGO', 'BURGOS', 'NAVARRA', 'VALLADOLID', 'SALAMANCA',\n",
       "       'RIOJA, LA', 'LERIDA', 'LEON', 'GIPUZKOA', 'TARRAGONA', 'SORIA',\n",
       "       'ALBACETE', 'SEGOVIA', 'HUELVA', 'PONTEVEDRA', 'ALMERIA', 'AVILA',\n",
       "       'PALENCIA', 'GUADALAJARA', 'ALAVA', 'ZAMORA',\n",
       "       'SANTA CRUZ DE TENERIFE', nan, 'BIZKAIA', 'CEUTA'], dtype=object)"
      ]
     },
     "execution_count": 25,
     "metadata": {},
     "output_type": "execute_result"
    }
   ],
   "source": [
    "test.Address_detail.unique()"
   ]
  },
  {
   "cell_type": "code",
   "execution_count": 26,
   "metadata": {},
   "outputs": [],
   "source": [
    "test.loc[test.Address_detail==\"CORU\\xc3\\x91A, A\",\"Address_detail\"] = \"CORUNA, A\""
   ]
  },
  {
   "cell_type": "code",
   "execution_count": 27,
   "metadata": {},
   "outputs": [],
   "source": [
    "test.loc[test.Address_detail.isnull(),\"Address_detail\"] = \"UNKNOWN\""
   ]
  },
  {
   "cell_type": "markdown",
   "metadata": {},
   "source": [
    "### Impute Income"
   ]
  },
  {
   "cell_type": "code",
   "execution_count": 28,
   "metadata": {
    "scrolled": false
   },
   "outputs": [
    {
     "data": {
      "image/png": "[encoded data removed]",
      "text/plain": [
       "<Figure size 1080x720 with 1 Axes>"
      ]
     },
     "metadata": {},
     "output_type": "display_data"
    }
   ],
   "source": [
    "# median Gross_household_income with respect to Address_detail or cities\n",
    "\n",
    "# creating a dataframe consisting of Address_detail or cities and respective gross household income\n",
    "cities_vs_gross_household_income=train.loc[:,['Address_detail','Gross_household_income']]\n",
    "\n",
    "# grouping the data by cities and calculating the median gross_household_income with respect\n",
    "# to a particular city\n",
    "cities_vs_median_income=cities_vs_gross_household_income.groupby(['Address_detail']).median()\n",
    "\n",
    "cities_vs_median_income.sort_values(by=('Gross_household_income'),inplace=True)\n",
    "cities_vs_median_income.reset_index(inplace=True)\n",
    "cities_vs_median_income\n",
    "\n",
    "import seaborn as sns\n",
    "# plotting the graph\n",
    "with sns.axes_style({\n",
    "        \"axes.facecolor\":   \"#ffc400\",\n",
    "        \"axes.grid\"     :    False,\n",
    "        \"figure.facecolor\": \"#c60b1e\"}):\n",
    "    h = sns.catplot(data=cities_vs_median_income,\n",
    "                   x=\"Address_detail\",\n",
    "                   y=\"Gross_household_income\",\n",
    "                   order=(i for i in cities_vs_median_income.Address_detail.unique()),\n",
    "                   height=10,\n",
    "                   s=18,\n",
    "                   aspect=1.5,\n",
    "                   color=\"#c60b1e\")\n",
    "\n",
    "plt.xticks(rotation=90)\n",
    "plt.tick_params(labelsize=16,labelcolor=\"#ffc400\")\n",
    "plt.ylabel(\"Median Income\",size=32,color=\"#ffc400\")\n",
    "plt.xlabel(\"Cities\",size=32,color=\"#ffc400\")\n",
    "plt.title(\"Median Income Distribution by City\",size=40,color=\"#ffc400\")\n",
    "plt.ylim(0,180000)\n",
    "plt.yticks(range(0,180000,40000))\n",
    "plt.savefig('Median Income Distribution by City.png')"
   ]
  },
  {
   "cell_type": "markdown",
   "metadata": {},
   "source": [
    "There's a lot of variation, so we think assigning missing incomes by providence is a good idea. First group the data by city, and reduce to get the median. This intermediate data frame is joined by the original city names to expand the aggregated median incomes, ordered so that there is a 1-to-1 mapping between the rows, and finally the missing values are replaced."
   ]
  },
  {
   "cell_type": "code",
   "execution_count": 37,
   "metadata": {},
   "outputs": [],
   "source": [
    "def medianRentaProvAll(dfp):\n",
    "    nameProv = dfp.Address_detail.unique()[0]\n",
    "    median = dfp.Gross_household_income.median(skipna=True)\n",
    "    dfp.loc[dfp.Gross_household_income.isnull(), 'Gross_household_income'] = median\n",
    "    return dfp\n",
    "# Provide median by province\n",
    "train = train.groupby('Address_detail').apply(medianRentaProvAll)  \n",
    "# If any rows still null (i.e. a province has all null) then replace by overall median\n",
    "train.loc[train.Gross_household_income.isnull(), \"Gross_household_income\"] = train.Gross_household_income.median"
   ]
  },
  {
   "cell_type": "code",
   "execution_count": 38,
   "metadata": {},
   "outputs": [
    {
     "data": {
      "text/plain": [
       "227965"
      ]
     },
     "execution_count": 38,
     "metadata": {},
     "output_type": "execute_result"
    }
   ],
   "source": [
    "test.Gross_household_income = pd.to_numeric(test.Gross_household_income,errors=\"coerce\")\n",
    "np.sum(test[\"Gross_household_income\"].isnull())"
   ]
  },
  {
   "cell_type": "code",
   "execution_count": 39,
   "metadata": {},
   "outputs": [],
   "source": [
    "# Provide median by province\n",
    "test = test.groupby('Address_detail').apply(medianRentaProvAll)  \n",
    "# If any rows still null (i.e. a province has all null) then replace by overall median\n",
    "test.loc[test.Gross_household_income.isnull(), \"Gross_household_income\"] = test.Gross_household_income.median"
   ]
  },
  {
   "cell_type": "markdown",
   "metadata": {},
   "source": [
    "### Impute Join Date"
   ]
  },
  {
   "cell_type": "markdown",
   "metadata": {},
   "source": [
    "Some entries don't have the date they joined the company. So, I just gave them something in the middle of the pack"
   ]
  },
  {
   "cell_type": "code",
   "execution_count": 40,
   "metadata": {},
   "outputs": [
    {
     "data": {
      "text/plain": [
       "count       13647309\n",
       "unique          6756\n",
       "top       2014-07-28\n",
       "freq           57389\n",
       "Name: Join_date, dtype: object"
      ]
     },
     "execution_count": 40,
     "metadata": {},
     "output_type": "execute_result"
    }
   ],
   "source": [
    "dates=train.loc[:,\"Join_date\"].sort_values().reset_index()\n",
    "median_date = int(np.median(dates.index.values))\n",
    "train.loc[train.Join_date.isnull(),\"Join_date\"] = dates.loc[median_date,\"Join_date\"]\n",
    "train[\"Join_date\"].describe()"
   ]
  },
  {
   "cell_type": "code",
   "execution_count": 41,
   "metadata": {},
   "outputs": [],
   "source": [
    "test.Month_status_date = pd.to_datetime(test.Month_status_date, format=\"%Y-%m-%d\")\n",
    "test.Join_date = pd.to_datetime(test.Join_date, format=\"%Y-%m-%d\")"
   ]
  },
  {
   "cell_type": "markdown",
   "metadata": {},
   "source": [
    "## OTHER CATEGORY"
   ]
  },
  {
   "cell_type": "markdown",
   "metadata": {},
   "source": [
    "### Impute New Customer"
   ]
  },
  {
   "cell_type": "code",
   "execution_count": 42,
   "metadata": {},
   "outputs": [
    {
     "data": {
      "text/plain": [
       "0.0    12808368\n",
       "1.0      811207\n",
       "Name: New_customer, dtype: int64"
      ]
     },
     "execution_count": 42,
     "metadata": {},
     "output_type": "execute_result"
    }
   ],
   "source": [
    "train[\"New_customer\"].value_counts()"
   ]
  },
  {
   "cell_type": "code",
   "execution_count": 43,
   "metadata": {},
   "outputs": [
    {
     "data": {
      "text/plain": [
       "27734"
      ]
     },
     "execution_count": 43,
     "metadata": {},
     "output_type": "execute_result"
    }
   ],
   "source": [
    "train[\"New_customer\"].isnull().sum()"
   ]
  },
  {
   "cell_type": "markdown",
   "metadata": {},
   "source": [
    "we can fill the missing values of New Customer by looking at how many months of history these customers have."
   ]
  },
  {
   "cell_type": "code",
   "execution_count": 31,
   "metadata": {},
   "outputs": [
    {
     "data": {
      "text/plain": [
       "6"
      ]
     },
     "execution_count": 31,
     "metadata": {},
     "output_type": "execute_result"
    }
   ],
   "source": [
    "months_active = train.loc[train[\"New_customer\"].isnull(),:].groupby(\n",
    "                \"Customer_ID\", sort=False).size()\n",
    "months_active.max()"
   ]
  },
  {
   "cell_type": "markdown",
   "metadata": {},
   "source": [
    "Looks like these are all new customers, so we replace accordingly."
   ]
  },
  {
   "cell_type": "code",
   "execution_count": 45,
   "metadata": {},
   "outputs": [],
   "source": [
    "train.loc[train[\"New_customer\"].isnull(),\"New_customer\"] = 1"
   ]
  },
  {
   "cell_type": "markdown",
   "metadata": {},
   "source": [
    "### Impute Seniority"
   ]
  },
  {
   "cell_type": "markdown",
   "metadata": {},
   "source": [
    "New_customer, Relationship_months and Join_date are all corelated variables.Customer would have joined before the observation period, but we do not have any information on that.Hence, I think, it is best to impute whether customer is New_customer or NOT."
   ]
  },
  {
   "cell_type": "code",
   "execution_count": 46,
   "metadata": {},
   "outputs": [
    {
     "data": {
      "text/plain": [
       "27734"
      ]
     },
     "execution_count": 46,
     "metadata": {},
     "output_type": "execute_result"
    }
   ],
   "source": [
    "train.Relnshp_Mnths = pd.to_numeric(train.Relnshp_Mnths,errors=\"coerce\")\n",
    "np.sum(train[\"Relnshp_Mnths\"].isnull())"
   ]
  },
  {
   "cell_type": "markdown",
   "metadata": {},
   "source": [
    "That number again. Probably the same people that we just determined were new customers. Double check."
   ]
  },
  {
   "cell_type": "code",
   "execution_count": 47,
   "metadata": {},
   "outputs": [
    {
     "data": {
      "text/plain": [
       "count    27734.0\n",
       "mean         1.0\n",
       "std          0.0\n",
       "min          1.0\n",
       "25%          1.0\n",
       "50%          1.0\n",
       "75%          1.0\n",
       "max          1.0\n",
       "Name: New_customer, dtype: float64"
      ]
     },
     "execution_count": 47,
     "metadata": {},
     "output_type": "execute_result"
    }
   ],
   "source": [
    "train.loc[train[\"Relnshp_Mnths\"].isnull(),\"New_customer\"].describe()"
   ]
  },
  {
   "cell_type": "markdown",
   "metadata": {},
   "source": [
    "Yes, they are New_Customer. Let's give them minimum seniority."
   ]
  },
  {
   "cell_type": "code",
   "execution_count": 48,
   "metadata": {},
   "outputs": [],
   "source": [
    "train.loc[train.Relnshp_Mnths.isnull(),\"Relnshp_Mnths\"] = train.Relnshp_Mnths.min()"
   ]
  },
  {
   "cell_type": "code",
   "execution_count": 49,
   "metadata": {},
   "outputs": [],
   "source": [
    "train.loc[train.Relnshp_Mnths <0, \"Relnshp_Mnths\"] = 0"
   ]
  },
  {
   "cell_type": "code",
   "execution_count": 50,
   "metadata": {},
   "outputs": [
    {
     "data": {
      "text/plain": [
       "0"
      ]
     },
     "execution_count": 50,
     "metadata": {},
     "output_type": "execute_result"
    }
   ],
   "source": [
    "test.Relnshp_Mnths.isnull().sum()"
   ]
  },
  {
   "cell_type": "code",
   "execution_count": 51,
   "metadata": {},
   "outputs": [],
   "source": [
    "test.loc[test.Relnshp_Mnths <0, \"Relnshp_Mnths\"] = 0"
   ]
  },
  {
   "cell_type": "markdown",
   "metadata": {},
   "source": [
    "### Impute Age"
   ]
  },
  {
   "cell_type": "code",
   "execution_count": 52,
   "metadata": {},
   "outputs": [],
   "source": [
    "train[\"Age\"] = train[\"Age\"].replace(to_replace = ' NA', value = np.nan)"
   ]
  },
  {
   "cell_type": "code",
   "execution_count": 53,
   "metadata": {},
   "outputs": [],
   "source": [
    "train[\"Age\"] = train[\"Age\"].astype(\"float\")"
   ]
  },
  {
   "cell_type": "code",
   "execution_count": 54,
   "metadata": {},
   "outputs": [
    {
     "data": {
      "text/plain": [
       "27734"
      ]
     },
     "execution_count": 54,
     "metadata": {},
     "output_type": "execute_result"
    }
   ],
   "source": [
    "train[\"Age\"].isnull().sum()"
   ]
  },
  {
   "cell_type": "code",
   "execution_count": 55,
   "metadata": {},
   "outputs": [
    {
     "name": "stdout",
     "output_type": "stream",
     "text": [
      "Minimum Age 2.0\n",
      "Maximum Age 164.0\n"
     ]
    },
    {
     "data": {
      "image/png": "[encoded data removed]",
      "text/plain": [
       "<Figure size 1080x792 with 1 Axes>"
      ]
     },
     "metadata": {},
     "output_type": "display_data"
    }
   ],
   "source": [
    "with sns.plotting_context(\"notebook\",font_scale=1.5):\n",
    "    sns.set_style(\"whitegrid\")\n",
    "    sns.distplot(train[\"Age\"].dropna(),\n",
    "                 bins=80,\n",
    "                 kde=False,\n",
    "                 color=\"tomato\")\n",
    "    plt.title('Customers Age Distribution')\n",
    "    plt.xlabel('Age(in years)')\n",
    "    plt.ylabel('No. of customers')\n",
    "print('Minimum Age',train['Age'].min())\n",
    "print('Maximum Age',train['Age'].max())"
   ]
  },
  {
   "cell_type": "markdown",
   "metadata": {},
   "source": [
    "We have a bimodal distribution for the age and we have customer age from 0 to 164. Looks like there might be some products for small children under 18 & some product for young generation. It is not possible to have customers having age 164 so we cap the age at 100."
   ]
  },
  {
   "cell_type": "code",
   "execution_count": 56,
   "metadata": {},
   "outputs": [],
   "source": [
    "young = train[(train[\"Age\"] > 18) & (train[\"Age\"] < 30)]"
   ]
  },
  {
   "cell_type": "code",
   "execution_count": 57,
   "metadata": {},
   "outputs": [
    {
     "data": {
      "text/html": [
       "<div>\n",
       "<style scoped>\n",
       "    .dataframe tbody tr th:only-of-type {\n",
       "        vertical-align: middle;\n",
       "    }\n",
       "\n",
       "    .dataframe tbody tr th {\n",
       "        vertical-align: top;\n",
       "    }\n",
       "\n",
       "    .dataframe thead th {\n",
       "        text-align: right;\n",
       "    }\n",
       "</style>\n",
       "<table border=\"1\" class=\"dataframe\">\n",
       "  <thead>\n",
       "    <tr style=\"text-align: right;\">\n",
       "      <th>Age</th>\n",
       "      <th>19.0</th>\n",
       "      <th>20.0</th>\n",
       "      <th>21.0</th>\n",
       "      <th>22.0</th>\n",
       "      <th>23.0</th>\n",
       "      <th>24.0</th>\n",
       "      <th>25.0</th>\n",
       "      <th>26.0</th>\n",
       "      <th>27.0</th>\n",
       "      <th>28.0</th>\n",
       "      <th>29.0</th>\n",
       "    </tr>\n",
       "    <tr>\n",
       "      <th>Segment</th>\n",
       "      <th></th>\n",
       "      <th></th>\n",
       "      <th></th>\n",
       "      <th></th>\n",
       "      <th></th>\n",
       "      <th></th>\n",
       "      <th></th>\n",
       "      <th></th>\n",
       "      <th></th>\n",
       "      <th></th>\n",
       "      <th></th>\n",
       "    </tr>\n",
       "  </thead>\n",
       "  <tbody>\n",
       "    <tr>\n",
       "      <th>01 - TOP</th>\n",
       "      <td>2</td>\n",
       "      <td>46</td>\n",
       "      <td>38</td>\n",
       "      <td>23</td>\n",
       "      <td>25</td>\n",
       "      <td>22</td>\n",
       "      <td>14</td>\n",
       "      <td>19</td>\n",
       "      <td>20</td>\n",
       "      <td>28</td>\n",
       "      <td>49</td>\n",
       "    </tr>\n",
       "    <tr>\n",
       "      <th>02 - PARTICULARES</th>\n",
       "      <td>4246</td>\n",
       "      <td>7795</td>\n",
       "      <td>3694</td>\n",
       "      <td>3432</td>\n",
       "      <td>3165</td>\n",
       "      <td>3112</td>\n",
       "      <td>3075</td>\n",
       "      <td>3268</td>\n",
       "      <td>4026</td>\n",
       "      <td>5592</td>\n",
       "      <td>7002</td>\n",
       "    </tr>\n",
       "    <tr>\n",
       "      <th>03 - UNIVERSITARIO</th>\n",
       "      <td>36</td>\n",
       "      <td>58387</td>\n",
       "      <td>81182</td>\n",
       "      <td>84715</td>\n",
       "      <td>88028</td>\n",
       "      <td>81732</td>\n",
       "      <td>58476</td>\n",
       "      <td>39891</td>\n",
       "      <td>30749</td>\n",
       "      <td>24294</td>\n",
       "      <td>18868</td>\n",
       "    </tr>\n",
       "  </tbody>\n",
       "</table>\n",
       "</div>"
      ],
      "text/plain": [
       "Age                 19.0   20.0   21.0   22.0   23.0   24.0   25.0   26.0  \\\n",
       "Segment                                                                     \n",
       "01 - TOP               2     46     38     23     25     22     14     19   \n",
       "02 - PARTICULARES   4246   7795   3694   3432   3165   3112   3075   3268   \n",
       "03 - UNIVERSITARIO    36  58387  81182  84715  88028  81732  58476  39891   \n",
       "\n",
       "Age                  27.0   28.0   29.0  \n",
       "Segment                                  \n",
       "01 - TOP               20     28     49  \n",
       "02 - PARTICULARES    4026   5592   7002  \n",
       "03 - UNIVERSITARIO  30749  24294  18868  "
      ]
     },
     "execution_count": 57,
     "metadata": {},
     "output_type": "execute_result"
    }
   ],
   "source": [
    "young.groupby([\"Segment\", \"Age\"])[\"Customer_ID\"].nunique(\"Customer_ID\").unstack()"
   ]
  },
  {
   "cell_type": "markdown",
   "metadata": {},
   "source": [
    "Looks like these are university students, as most of the young customers belong to university segment... It makes sense why we have a bimodal distribution\n",
    "\n",
    "It looks like we have bimodal distribution here. 3 things to notice here -\n",
    "\n",
    "1. We have some population under 18 having bank accounts.. these may be students or junior account holders where there parents have created an account for them.\n",
    "2. We seem to have a group of people between 18 and 30 who could be students or early job starters. This segment has very high number of people than working people.\n",
    "3. There are some people with age 164.. It's better to cap the age at 100"
   ]
  },
  {
   "cell_type": "code",
   "execution_count": 58,
   "metadata": {},
   "outputs": [],
   "source": [
    "train.loc[train.Age > 100,\"Age\"] = train.loc[(train.Age >= 30) & (train.Age <= 100),\"Age\"].median(skipna=True)\n",
    "train[\"Age\"].fillna(train[\"Age\"].mean(),inplace=True)\n",
    "train[\"Age\"] = train[\"Age\"].astype(int)"
   ]
  },
  {
   "cell_type": "code",
   "execution_count": 59,
   "metadata": {},
   "outputs": [
    {
     "data": {
      "image/png": "[encoded data removed]",
      "text/plain": [
       "<Figure size 1584x720 with 1 Axes>"
      ]
     },
     "metadata": {},
     "output_type": "display_data"
    }
   ],
   "source": [
    "train['Age'] = train['Age'].astype('float64')\n",
    "\n",
    "age_series = train.Age.value_counts()\n",
    "plt.figure(figsize=(22,10))\n",
    "sns.barplot(age_series.index.astype('int'), age_series.values)\n",
    "plt.ylabel('Number of Occurrences of the customer', fontsize=12)\n",
    "plt.xlabel('Age', fontsize=12)\n",
    "plt.xticks(rotation='vertical')\n",
    "plt.show()"
   ]
  },
  {
   "cell_type": "code",
   "execution_count": 60,
   "metadata": {},
   "outputs": [
    {
     "data": {
      "text/plain": [
       "164"
      ]
     },
     "execution_count": 60,
     "metadata": {},
     "output_type": "execute_result"
    }
   ],
   "source": [
    "test.Age.max()"
   ]
  },
  {
   "cell_type": "code",
   "execution_count": 61,
   "metadata": {},
   "outputs": [],
   "source": [
    "test.loc[test.Age > 100,\"Age\"] = test.loc[(test.Age >= 30) & (test.Age <= 100),\"Age\"].median(skipna=True)\n",
    "test[\"Age\"] = test[\"Age\"].astype(int)"
   ]
  },
  {
   "cell_type": "markdown",
   "metadata": {},
   "source": [
    "### Impute Relationship Type"
   ]
  },
  {
   "cell_type": "code",
   "execution_count": 62,
   "metadata": {},
   "outputs": [
    {
     "data": {
      "text/plain": [
       "I    7304875\n",
       "A    6187123\n",
       "P       4656\n",
       "R        870\n",
       "N          4\n",
       "Name: Cust_Reln_type_beg_mth, dtype: int64"
      ]
     },
     "execution_count": 62,
     "metadata": {},
     "output_type": "execute_result"
    }
   ],
   "source": [
    "train.Cust_Reln_type_beg_mth.value_counts()"
   ]
  },
  {
   "cell_type": "markdown",
   "metadata": {},
   "source": [
    "Customer relation type at the beginning of the month, A (active), I (inactive), P (former customer),R (Potential) there is no category for \"N\" hence it's an observational error."
   ]
  },
  {
   "cell_type": "code",
   "execution_count": 63,
   "metadata": {},
   "outputs": [],
   "source": [
    "train['Cust_Reln_type_beg_mth'].replace(to_replace =\"N\", value =\"A\",inplace =True) "
   ]
  },
  {
   "cell_type": "markdown",
   "metadata": {},
   "source": [
    "The missing value for Relationship Type is imputed based on treating those observation as new customers"
   ]
  },
  {
   "cell_type": "code",
   "execution_count": 64,
   "metadata": {},
   "outputs": [],
   "source": [
    "train.loc[train.Cust_Reln_type_beg_mth.isnull(),\"Cust_Reln_type_beg_mth\"] = \"A\""
   ]
  },
  {
   "cell_type": "code",
   "execution_count": 65,
   "metadata": {},
   "outputs": [
    {
     "data": {
      "text/plain": [
       "23"
      ]
     },
     "execution_count": 65,
     "metadata": {},
     "output_type": "execute_result"
    }
   ],
   "source": [
    "test.Cust_Reln_type_beg_mth.isnull().sum()"
   ]
  },
  {
   "cell_type": "code",
   "execution_count": 66,
   "metadata": {},
   "outputs": [
    {
     "data": {
      "text/plain": [
       "I    535943\n",
       "A    393622\n",
       "P        27\n",
       "Name: Cust_Reln_type_beg_mth, dtype: int64"
      ]
     },
     "execution_count": 66,
     "metadata": {},
     "output_type": "execute_result"
    }
   ],
   "source": [
    "test.Cust_Reln_type_beg_mth.value_counts()"
   ]
  },
  {
   "cell_type": "code",
   "execution_count": 67,
   "metadata": {},
   "outputs": [],
   "source": [
    "test.loc[test.Cust_Reln_type_beg_mth.isnull(),\"Cust_Reln_type_beg_mth\"] = \"A\""
   ]
  },
  {
   "cell_type": "markdown",
   "metadata": {},
   "source": [
    "### Impute Deceased Index"
   ]
  },
  {
   "cell_type": "code",
   "execution_count": 68,
   "metadata": {},
   "outputs": [
    {
     "data": {
      "text/plain": [
       "N    13584813\n",
       "S       34762\n",
       "Name: Deceased_flag, dtype: int64"
      ]
     },
     "execution_count": 68,
     "metadata": {},
     "output_type": "execute_result"
    }
   ],
   "source": [
    "train.Deceased_flag.value_counts()"
   ]
  },
  {
   "cell_type": "code",
   "execution_count": 69,
   "metadata": {},
   "outputs": [],
   "source": [
    "train.loc[train.Deceased_flag.isnull(),\"Deceased_flag\"] = \"N\""
   ]
  },
  {
   "cell_type": "markdown",
   "metadata": {},
   "source": [
    "### Impute Employee_Index"
   ]
  },
  {
   "cell_type": "code",
   "execution_count": 70,
   "metadata": {},
   "outputs": [
    {
     "data": {
      "text/plain": [
       "N    13610977\n",
       "B        3566\n",
       "F        2523\n",
       "A        2492\n",
       "S          17\n",
       "Name: Employee_Index, dtype: int64"
      ]
     },
     "execution_count": 70,
     "metadata": {},
     "output_type": "execute_result"
    }
   ],
   "source": [
    "train[\"Employee_Index\"].value_counts()"
   ]
  },
  {
   "cell_type": "code",
   "execution_count": 71,
   "metadata": {},
   "outputs": [],
   "source": [
    "train['Employee_Index'].replace({\"S\":\"N\" }, inplace = True)"
   ]
  },
  {
   "cell_type": "code",
   "execution_count": 72,
   "metadata": {},
   "outputs": [
    {
     "data": {
      "text/plain": [
       "N    13610994\n",
       "B        3566\n",
       "F        2523\n",
       "A        2492\n",
       "Name: Employee_Index, dtype: int64"
      ]
     },
     "execution_count": 72,
     "metadata": {},
     "output_type": "execute_result"
    }
   ],
   "source": [
    "train['Employee_Index'].value_counts()"
   ]
  },
  {
   "cell_type": "code",
   "execution_count": 73,
   "metadata": {},
   "outputs": [
    {
     "data": {
      "text/plain": [
       "27734"
      ]
     },
     "execution_count": 73,
     "metadata": {},
     "output_type": "execute_result"
    }
   ],
   "source": [
    "train['Employee_Index'].isnull().sum()\n",
    "#filling Null values with most common values"
   ]
  },
  {
   "cell_type": "code",
   "execution_count": 74,
   "metadata": {},
   "outputs": [],
   "source": [
    "train.loc[train.Employee_Index.isnull(),\"Employee_Index\"] = \"N\""
   ]
  },
  {
   "cell_type": "markdown",
   "metadata": {},
   "source": [
    "### Impute Customer Country"
   ]
  },
  {
   "cell_type": "code",
   "execution_count": 75,
   "metadata": {},
   "outputs": [
    {
     "data": {
      "text/plain": [
       "27734"
      ]
     },
     "execution_count": 75,
     "metadata": {},
     "output_type": "execute_result"
    }
   ],
   "source": [
    "train['Customer_country'].isnull().sum()"
   ]
  },
  {
   "cell_type": "code",
   "execution_count": 76,
   "metadata": {},
   "outputs": [
    {
     "data": {
      "text/plain": [
       "ES    13553710\n",
       "FR        5161\n",
       "AR        4835\n",
       "DE        4625\n",
       "GB        4605\n",
       "        ...   \n",
       "DJ          11\n",
       "JM          11\n",
       "ZW          11\n",
       "BM           6\n",
       "MT           2\n",
       "Name: Customer_country, Length: 118, dtype: int64"
      ]
     },
     "execution_count": 76,
     "metadata": {},
     "output_type": "execute_result"
    }
   ],
   "source": [
    "train['Customer_country'].value_counts()"
   ]
  },
  {
   "cell_type": "code",
   "execution_count": 77,
   "metadata": {},
   "outputs": [],
   "source": [
    "train.loc[train.Customer_country.isnull(),\"Customer_country\"] = \"ES\""
   ]
  },
  {
   "cell_type": "markdown",
   "metadata": {},
   "source": [
    "### Impute Relationship flag"
   ]
  },
  {
   "cell_type": "code",
   "execution_count": 78,
   "metadata": {},
   "outputs": [
    {
     "data": {
      "text/plain": [
       "27734"
      ]
     },
     "execution_count": 78,
     "metadata": {},
     "output_type": "execute_result"
    }
   ],
   "source": [
    "train[\"Relnshp_flag\"].isnull().sum()"
   ]
  },
  {
   "cell_type": "code",
   "execution_count": 79,
   "metadata": {},
   "outputs": [
    {
     "data": {
      "text/html": [
       "<div>\n",
       "<style scoped>\n",
       "    .dataframe tbody tr th:only-of-type {\n",
       "        vertical-align: middle;\n",
       "    }\n",
       "\n",
       "    .dataframe tbody tr th {\n",
       "        vertical-align: top;\n",
       "    }\n",
       "\n",
       "    .dataframe thead th {\n",
       "        text-align: right;\n",
       "    }\n",
       "</style>\n",
       "<table border=\"1\" class=\"dataframe\">\n",
       "  <thead>\n",
       "    <tr style=\"text-align: right;\">\n",
       "      <th>Relnshp_Mnths</th>\n",
       "      <th>0.0</th>\n",
       "      <th>1.0</th>\n",
       "      <th>2.0</th>\n",
       "      <th>3.0</th>\n",
       "      <th>4.0</th>\n",
       "      <th>5.0</th>\n",
       "      <th>6.0</th>\n",
       "      <th>7.0</th>\n",
       "      <th>8.0</th>\n",
       "      <th>9.0</th>\n",
       "      <th>10.0</th>\n",
       "      <th>11.0</th>\n",
       "      <th>12.0</th>\n",
       "      <th>13.0</th>\n",
       "      <th>14.0</th>\n",
       "      <th>15.0</th>\n",
       "      <th>16.0</th>\n",
       "      <th>17.0</th>\n",
       "      <th>18.0</th>\n",
       "      <th>19.0</th>\n",
       "      <th>20.0</th>\n",
       "      <th>21.0</th>\n",
       "      <th>22.0</th>\n",
       "      <th>23.0</th>\n",
       "      <th>24.0</th>\n",
       "      <th>25.0</th>\n",
       "      <th>26.0</th>\n",
       "      <th>27.0</th>\n",
       "      <th>28.0</th>\n",
       "      <th>29.0</th>\n",
       "      <th>30.0</th>\n",
       "      <th>31.0</th>\n",
       "      <th>32.0</th>\n",
       "      <th>33.0</th>\n",
       "      <th>34.0</th>\n",
       "      <th>35.0</th>\n",
       "      <th>36.0</th>\n",
       "      <th>37.0</th>\n",
       "      <th>38.0</th>\n",
       "      <th>39.0</th>\n",
       "      <th>40.0</th>\n",
       "      <th>41.0</th>\n",
       "      <th>42.0</th>\n",
       "      <th>43.0</th>\n",
       "      <th>44.0</th>\n",
       "      <th>45.0</th>\n",
       "      <th>46.0</th>\n",
       "      <th>47.0</th>\n",
       "      <th>48.0</th>\n",
       "      <th>49.0</th>\n",
       "      <th>50.0</th>\n",
       "      <th>51.0</th>\n",
       "      <th>52.0</th>\n",
       "      <th>53.0</th>\n",
       "      <th>54.0</th>\n",
       "      <th>55.0</th>\n",
       "      <th>56.0</th>\n",
       "      <th>57.0</th>\n",
       "      <th>58.0</th>\n",
       "      <th>59.0</th>\n",
       "      <th>60.0</th>\n",
       "      <th>61.0</th>\n",
       "      <th>62.0</th>\n",
       "      <th>63.0</th>\n",
       "      <th>64.0</th>\n",
       "      <th>65.0</th>\n",
       "      <th>66.0</th>\n",
       "      <th>67.0</th>\n",
       "      <th>68.0</th>\n",
       "      <th>69.0</th>\n",
       "      <th>70.0</th>\n",
       "      <th>71.0</th>\n",
       "      <th>72.0</th>\n",
       "      <th>73.0</th>\n",
       "      <th>74.0</th>\n",
       "      <th>75.0</th>\n",
       "      <th>76.0</th>\n",
       "      <th>77.0</th>\n",
       "      <th>78.0</th>\n",
       "      <th>79.0</th>\n",
       "      <th>80.0</th>\n",
       "      <th>81.0</th>\n",
       "      <th>82.0</th>\n",
       "      <th>83.0</th>\n",
       "      <th>84.0</th>\n",
       "      <th>85.0</th>\n",
       "      <th>86.0</th>\n",
       "      <th>87.0</th>\n",
       "      <th>88.0</th>\n",
       "      <th>89.0</th>\n",
       "      <th>90.0</th>\n",
       "      <th>91.0</th>\n",
       "      <th>92.0</th>\n",
       "      <th>93.0</th>\n",
       "      <th>94.0</th>\n",
       "      <th>95.0</th>\n",
       "      <th>96.0</th>\n",
       "      <th>97.0</th>\n",
       "      <th>98.0</th>\n",
       "      <th>99.0</th>\n",
       "      <th>100.0</th>\n",
       "      <th>101.0</th>\n",
       "      <th>102.0</th>\n",
       "      <th>103.0</th>\n",
       "      <th>104.0</th>\n",
       "      <th>105.0</th>\n",
       "      <th>106.0</th>\n",
       "      <th>107.0</th>\n",
       "      <th>108.0</th>\n",
       "      <th>109.0</th>\n",
       "      <th>110.0</th>\n",
       "      <th>111.0</th>\n",
       "      <th>112.0</th>\n",
       "      <th>113.0</th>\n",
       "      <th>114.0</th>\n",
       "      <th>115.0</th>\n",
       "      <th>116.0</th>\n",
       "      <th>117.0</th>\n",
       "      <th>118.0</th>\n",
       "      <th>119.0</th>\n",
       "      <th>120.0</th>\n",
       "      <th>121.0</th>\n",
       "      <th>122.0</th>\n",
       "      <th>123.0</th>\n",
       "      <th>124.0</th>\n",
       "      <th>125.0</th>\n",
       "      <th>126.0</th>\n",
       "      <th>127.0</th>\n",
       "      <th>128.0</th>\n",
       "      <th>129.0</th>\n",
       "      <th>130.0</th>\n",
       "      <th>131.0</th>\n",
       "      <th>132.0</th>\n",
       "      <th>133.0</th>\n",
       "      <th>134.0</th>\n",
       "      <th>135.0</th>\n",
       "      <th>136.0</th>\n",
       "      <th>137.0</th>\n",
       "      <th>138.0</th>\n",
       "      <th>139.0</th>\n",
       "      <th>140.0</th>\n",
       "      <th>141.0</th>\n",
       "      <th>142.0</th>\n",
       "      <th>143.0</th>\n",
       "      <th>144.0</th>\n",
       "      <th>145.0</th>\n",
       "      <th>146.0</th>\n",
       "      <th>147.0</th>\n",
       "      <th>148.0</th>\n",
       "      <th>149.0</th>\n",
       "      <th>150.0</th>\n",
       "      <th>151.0</th>\n",
       "      <th>152.0</th>\n",
       "      <th>153.0</th>\n",
       "      <th>154.0</th>\n",
       "      <th>155.0</th>\n",
       "      <th>156.0</th>\n",
       "      <th>157.0</th>\n",
       "      <th>158.0</th>\n",
       "      <th>159.0</th>\n",
       "      <th>160.0</th>\n",
       "      <th>161.0</th>\n",
       "      <th>162.0</th>\n",
       "      <th>163.0</th>\n",
       "      <th>164.0</th>\n",
       "      <th>165.0</th>\n",
       "      <th>166.0</th>\n",
       "      <th>167.0</th>\n",
       "      <th>168.0</th>\n",
       "      <th>169.0</th>\n",
       "      <th>170.0</th>\n",
       "      <th>171.0</th>\n",
       "      <th>172.0</th>\n",
       "      <th>173.0</th>\n",
       "      <th>174.0</th>\n",
       "      <th>175.0</th>\n",
       "      <th>176.0</th>\n",
       "      <th>177.0</th>\n",
       "      <th>178.0</th>\n",
       "      <th>179.0</th>\n",
       "      <th>180.0</th>\n",
       "      <th>181.0</th>\n",
       "      <th>182.0</th>\n",
       "      <th>183.0</th>\n",
       "      <th>184.0</th>\n",
       "      <th>185.0</th>\n",
       "      <th>186.0</th>\n",
       "      <th>187.0</th>\n",
       "      <th>188.0</th>\n",
       "      <th>189.0</th>\n",
       "      <th>190.0</th>\n",
       "      <th>191.0</th>\n",
       "      <th>192.0</th>\n",
       "      <th>193.0</th>\n",
       "      <th>194.0</th>\n",
       "      <th>195.0</th>\n",
       "      <th>196.0</th>\n",
       "      <th>197.0</th>\n",
       "      <th>198.0</th>\n",
       "      <th>199.0</th>\n",
       "      <th>200.0</th>\n",
       "      <th>201.0</th>\n",
       "      <th>202.0</th>\n",
       "      <th>203.0</th>\n",
       "      <th>204.0</th>\n",
       "      <th>205.0</th>\n",
       "      <th>206.0</th>\n",
       "      <th>207.0</th>\n",
       "      <th>208.0</th>\n",
       "      <th>209.0</th>\n",
       "      <th>210.0</th>\n",
       "      <th>211.0</th>\n",
       "      <th>212.0</th>\n",
       "      <th>213.0</th>\n",
       "      <th>214.0</th>\n",
       "      <th>215.0</th>\n",
       "      <th>216.0</th>\n",
       "      <th>217.0</th>\n",
       "      <th>218.0</th>\n",
       "      <th>219.0</th>\n",
       "      <th>220.0</th>\n",
       "      <th>221.0</th>\n",
       "      <th>222.0</th>\n",
       "      <th>223.0</th>\n",
       "      <th>224.0</th>\n",
       "      <th>225.0</th>\n",
       "      <th>226.0</th>\n",
       "      <th>227.0</th>\n",
       "      <th>228.0</th>\n",
       "      <th>229.0</th>\n",
       "      <th>230.0</th>\n",
       "      <th>231.0</th>\n",
       "      <th>232.0</th>\n",
       "      <th>233.0</th>\n",
       "      <th>234.0</th>\n",
       "      <th>235.0</th>\n",
       "      <th>236.0</th>\n",
       "      <th>237.0</th>\n",
       "      <th>238.0</th>\n",
       "      <th>239.0</th>\n",
       "      <th>240.0</th>\n",
       "      <th>241.0</th>\n",
       "      <th>242.0</th>\n",
       "      <th>243.0</th>\n",
       "      <th>244.0</th>\n",
       "      <th>245.0</th>\n",
       "      <th>246.0</th>\n",
       "      <th>247.0</th>\n",
       "      <th>248.0</th>\n",
       "      <th>249.0</th>\n",
       "      <th>250.0</th>\n",
       "      <th>251.0</th>\n",
       "      <th>252.0</th>\n",
       "      <th>253.0</th>\n",
       "      <th>254.0</th>\n",
       "      <th>255.0</th>\n",
       "      <th>256.0</th>\n",
       "    </tr>\n",
       "    <tr>\n",
       "      <th>Relnshp_flag</th>\n",
       "      <th></th>\n",
       "      <th></th>\n",
       "      <th></th>\n",
       "      <th></th>\n",
       "      <th></th>\n",
       "      <th></th>\n",
       "      <th></th>\n",
       "      <th></th>\n",
       "      <th></th>\n",
       "      <th></th>\n",
       "      <th></th>\n",
       "      <th></th>\n",
       "      <th></th>\n",
       "      <th></th>\n",
       "      <th></th>\n",
       "      <th></th>\n",
       "      <th></th>\n",
       "      <th></th>\n",
       "      <th></th>\n",
       "      <th></th>\n",
       "      <th></th>\n",
       "      <th></th>\n",
       "      <th></th>\n",
       "      <th></th>\n",
       "      <th></th>\n",
       "      <th></th>\n",
       "      <th></th>\n",
       "      <th></th>\n",
       "      <th></th>\n",
       "      <th></th>\n",
       "      <th></th>\n",
       "      <th></th>\n",
       "      <th></th>\n",
       "      <th></th>\n",
       "      <th></th>\n",
       "      <th></th>\n",
       "      <th></th>\n",
       "      <th></th>\n",
       "      <th></th>\n",
       "      <th></th>\n",
       "      <th></th>\n",
       "      <th></th>\n",
       "      <th></th>\n",
       "      <th></th>\n",
       "      <th></th>\n",
       "      <th></th>\n",
       "      <th></th>\n",
       "      <th></th>\n",
       "      <th></th>\n",
       "      <th></th>\n",
       "      <th></th>\n",
       "      <th></th>\n",
       "      <th></th>\n",
       "      <th></th>\n",
       "      <th></th>\n",
       "      <th></th>\n",
       "      <th></th>\n",
       "      <th></th>\n",
       "      <th></th>\n",
       "      <th></th>\n",
       "      <th></th>\n",
       "      <th></th>\n",
       "      <th></th>\n",
       "      <th></th>\n",
       "      <th></th>\n",
       "      <th></th>\n",
       "      <th></th>\n",
       "      <th></th>\n",
       "      <th></th>\n",
       "      <th></th>\n",
       "      <th></th>\n",
       "      <th></th>\n",
       "      <th></th>\n",
       "      <th></th>\n",
       "      <th></th>\n",
       "      <th></th>\n",
       "      <th></th>\n",
       "      <th></th>\n",
       "      <th></th>\n",
       "      <th></th>\n",
       "      <th></th>\n",
       "      <th></th>\n",
       "      <th></th>\n",
       "      <th></th>\n",
       "      <th></th>\n",
       "      <th></th>\n",
       "      <th></th>\n",
       "      <th></th>\n",
       "      <th></th>\n",
       "      <th></th>\n",
       "      <th></th>\n",
       "      <th></th>\n",
       "      <th></th>\n",
       "      <th></th>\n",
       "      <th></th>\n",
       "      <th></th>\n",
       "      <th></th>\n",
       "      <th></th>\n",
       "      <th></th>\n",
       "      <th></th>\n",
       "      <th></th>\n",
       "      <th></th>\n",
       "      <th></th>\n",
       "      <th></th>\n",
       "      <th></th>\n",
       "      <th></th>\n",
       "      <th></th>\n",
       "      <th></th>\n",
       "      <th></th>\n",
       "      <th></th>\n",
       "      <th></th>\n",
       "      <th></th>\n",
       "      <th></th>\n",
       "      <th></th>\n",
       "      <th></th>\n",
       "      <th></th>\n",
       "      <th></th>\n",
       "      <th></th>\n",
       "      <th></th>\n",
       "      <th></th>\n",
       "      <th></th>\n",
       "      <th></th>\n",
       "      <th></th>\n",
       "      <th></th>\n",
       "      <th></th>\n",
       "      <th></th>\n",
       "      <th></th>\n",
       "      <th></th>\n",
       "      <th></th>\n",
       "      <th></th>\n",
       "      <th></th>\n",
       "      <th></th>\n",
       "      <th></th>\n",
       "      <th></th>\n",
       "      <th></th>\n",
       "      <th></th>\n",
       "      <th></th>\n",
       "      <th></th>\n",
       "      <th></th>\n",
       "      <th></th>\n",
       "      <th></th>\n",
       "      <th></th>\n",
       "      <th></th>\n",
       "      <th></th>\n",
       "      <th></th>\n",
       "      <th></th>\n",
       "      <th></th>\n",
       "      <th></th>\n",
       "      <th></th>\n",
       "      <th></th>\n",
       "      <th></th>\n",
       "      <th></th>\n",
       "      <th></th>\n",
       "      <th></th>\n",
       "      <th></th>\n",
       "      <th></th>\n",
       "      <th></th>\n",
       "      <th></th>\n",
       "      <th></th>\n",
       "      <th></th>\n",
       "      <th></th>\n",
       "      <th></th>\n",
       "      <th></th>\n",
       "      <th></th>\n",
       "      <th></th>\n",
       "      <th></th>\n",
       "      <th></th>\n",
       "      <th></th>\n",
       "      <th></th>\n",
       "      <th></th>\n",
       "      <th></th>\n",
       "      <th></th>\n",
       "      <th></th>\n",
       "      <th></th>\n",
       "      <th></th>\n",
       "      <th></th>\n",
       "      <th></th>\n",
       "      <th></th>\n",
       "      <th></th>\n",
       "      <th></th>\n",
       "      <th></th>\n",
       "      <th></th>\n",
       "      <th></th>\n",
       "      <th></th>\n",
       "      <th></th>\n",
       "      <th></th>\n",
       "      <th></th>\n",
       "      <th></th>\n",
       "      <th></th>\n",
       "      <th></th>\n",
       "      <th></th>\n",
       "      <th></th>\n",
       "      <th></th>\n",
       "      <th></th>\n",
       "      <th></th>\n",
       "      <th></th>\n",
       "      <th></th>\n",
       "      <th></th>\n",
       "      <th></th>\n",
       "      <th></th>\n",
       "      <th></th>\n",
       "      <th></th>\n",
       "      <th></th>\n",
       "      <th></th>\n",
       "      <th></th>\n",
       "      <th></th>\n",
       "      <th></th>\n",
       "      <th></th>\n",
       "      <th></th>\n",
       "      <th></th>\n",
       "      <th></th>\n",
       "      <th></th>\n",
       "      <th></th>\n",
       "      <th></th>\n",
       "      <th></th>\n",
       "      <th></th>\n",
       "      <th></th>\n",
       "      <th></th>\n",
       "      <th></th>\n",
       "      <th></th>\n",
       "      <th></th>\n",
       "      <th></th>\n",
       "      <th></th>\n",
       "      <th></th>\n",
       "      <th></th>\n",
       "      <th></th>\n",
       "      <th></th>\n",
       "      <th></th>\n",
       "      <th></th>\n",
       "      <th></th>\n",
       "      <th></th>\n",
       "      <th></th>\n",
       "      <th></th>\n",
       "      <th></th>\n",
       "      <th></th>\n",
       "      <th></th>\n",
       "      <th></th>\n",
       "      <th></th>\n",
       "      <th></th>\n",
       "      <th></th>\n",
       "      <th></th>\n",
       "      <th></th>\n",
       "      <th></th>\n",
       "      <th></th>\n",
       "      <th></th>\n",
       "      <th></th>\n",
       "      <th></th>\n",
       "      <th></th>\n",
       "      <th></th>\n",
       "      <th></th>\n",
       "      <th></th>\n",
       "      <th></th>\n",
       "      <th></th>\n",
       "      <th></th>\n",
       "      <th></th>\n",
       "      <th></th>\n",
       "      <th></th>\n",
       "    </tr>\n",
       "  </thead>\n",
       "  <tbody>\n",
       "    <tr>\n",
       "      <th>1.0</th>\n",
       "      <td>128333</td>\n",
       "      <td>131558</td>\n",
       "      <td>129522</td>\n",
       "      <td>131981</td>\n",
       "      <td>126756</td>\n",
       "      <td>138956</td>\n",
       "      <td>126565</td>\n",
       "      <td>128547</td>\n",
       "      <td>155259</td>\n",
       "      <td>177509</td>\n",
       "      <td>205834</td>\n",
       "      <td>124240</td>\n",
       "      <td>242776</td>\n",
       "      <td>123700</td>\n",
       "      <td>126588</td>\n",
       "      <td>121510</td>\n",
       "      <td>135128</td>\n",
       "      <td>124819</td>\n",
       "      <td>125039</td>\n",
       "      <td>118534</td>\n",
       "      <td>144859</td>\n",
       "      <td>214545</td>\n",
       "      <td>154640</td>\n",
       "      <td>177554</td>\n",
       "      <td>166911</td>\n",
       "      <td>108291</td>\n",
       "      <td>113373</td>\n",
       "      <td>107861</td>\n",
       "      <td>104737</td>\n",
       "      <td>102735</td>\n",
       "      <td>103020</td>\n",
       "      <td>109344</td>\n",
       "      <td>138826</td>\n",
       "      <td>174195</td>\n",
       "      <td>147809</td>\n",
       "      <td>149521</td>\n",
       "      <td>164281</td>\n",
       "      <td>100359</td>\n",
       "      <td>105695</td>\n",
       "      <td>98009</td>\n",
       "      <td>103387</td>\n",
       "      <td>99891</td>\n",
       "      <td>92464</td>\n",
       "      <td>136432</td>\n",
       "      <td>150694</td>\n",
       "      <td>168644</td>\n",
       "      <td>141558</td>\n",
       "      <td>123632</td>\n",
       "      <td>118701</td>\n",
       "      <td>85846</td>\n",
       "      <td>85846</td>\n",
       "      <td>79268</td>\n",
       "      <td>85645</td>\n",
       "      <td>82782</td>\n",
       "      <td>72028</td>\n",
       "      <td>60673</td>\n",
       "      <td>46079</td>\n",
       "      <td>34730</td>\n",
       "      <td>27833</td>\n",
       "      <td>23982</td>\n",
       "      <td>22872</td>\n",
       "      <td>28053</td>\n",
       "      <td>31102</td>\n",
       "      <td>34835</td>\n",
       "      <td>34124</td>\n",
       "      <td>29558</td>\n",
       "      <td>29824</td>\n",
       "      <td>26723</td>\n",
       "      <td>27892</td>\n",
       "      <td>26110</td>\n",
       "      <td>24534</td>\n",
       "      <td>23855</td>\n",
       "      <td>23606</td>\n",
       "      <td>19242</td>\n",
       "      <td>16007</td>\n",
       "      <td>14431</td>\n",
       "      <td>17536</td>\n",
       "      <td>24375</td>\n",
       "      <td>25890</td>\n",
       "      <td>25519</td>\n",
       "      <td>33769</td>\n",
       "      <td>48041</td>\n",
       "      <td>37275</td>\n",
       "      <td>38597</td>\n",
       "      <td>38885</td>\n",
       "      <td>38323</td>\n",
       "      <td>40680</td>\n",
       "      <td>43174</td>\n",
       "      <td>41960</td>\n",
       "      <td>43487</td>\n",
       "      <td>42092</td>\n",
       "      <td>39048</td>\n",
       "      <td>37917</td>\n",
       "      <td>43703</td>\n",
       "      <td>39901</td>\n",
       "      <td>41326</td>\n",
       "      <td>43519</td>\n",
       "      <td>42622</td>\n",
       "      <td>42533</td>\n",
       "      <td>37999</td>\n",
       "      <td>38473</td>\n",
       "      <td>41718</td>\n",
       "      <td>47543</td>\n",
       "      <td>42244</td>\n",
       "      <td>47025</td>\n",
       "      <td>50455</td>\n",
       "      <td>43110</td>\n",
       "      <td>46467</td>\n",
       "      <td>45377</td>\n",
       "      <td>44001</td>\n",
       "      <td>49312</td>\n",
       "      <td>43612</td>\n",
       "      <td>44855</td>\n",
       "      <td>43457</td>\n",
       "      <td>45383</td>\n",
       "      <td>43436</td>\n",
       "      <td>42507</td>\n",
       "      <td>55231</td>\n",
       "      <td>46030</td>\n",
       "      <td>46781</td>\n",
       "      <td>43513</td>\n",
       "      <td>38242</td>\n",
       "      <td>38706</td>\n",
       "      <td>41038</td>\n",
       "      <td>42832</td>\n",
       "      <td>44821</td>\n",
       "      <td>43972</td>\n",
       "      <td>41082</td>\n",
       "      <td>41630</td>\n",
       "      <td>39336</td>\n",
       "      <td>38645</td>\n",
       "      <td>33894</td>\n",
       "      <td>37714</td>\n",
       "      <td>38281</td>\n",
       "      <td>44135</td>\n",
       "      <td>37248</td>\n",
       "      <td>40978</td>\n",
       "      <td>42100</td>\n",
       "      <td>42268</td>\n",
       "      <td>38906</td>\n",
       "      <td>40685</td>\n",
       "      <td>40207</td>\n",
       "      <td>40238</td>\n",
       "      <td>37457</td>\n",
       "      <td>38760</td>\n",
       "      <td>37052</td>\n",
       "      <td>38631</td>\n",
       "      <td>34668</td>\n",
       "      <td>36017</td>\n",
       "      <td>35158</td>\n",
       "      <td>37777</td>\n",
       "      <td>38484</td>\n",
       "      <td>36771</td>\n",
       "      <td>37277</td>\n",
       "      <td>33575</td>\n",
       "      <td>30884</td>\n",
       "      <td>45662</td>\n",
       "      <td>40395</td>\n",
       "      <td>39446</td>\n",
       "      <td>50917</td>\n",
       "      <td>54120</td>\n",
       "      <td>58864</td>\n",
       "      <td>68089</td>\n",
       "      <td>60432</td>\n",
       "      <td>70828</td>\n",
       "      <td>74787</td>\n",
       "      <td>66424</td>\n",
       "      <td>52459</td>\n",
       "      <td>63828</td>\n",
       "      <td>65622</td>\n",
       "      <td>61857</td>\n",
       "      <td>59670</td>\n",
       "      <td>66052</td>\n",
       "      <td>54709</td>\n",
       "      <td>55045</td>\n",
       "      <td>47379</td>\n",
       "      <td>44757</td>\n",
       "      <td>47754</td>\n",
       "      <td>44894</td>\n",
       "      <td>38563</td>\n",
       "      <td>44272</td>\n",
       "      <td>33507</td>\n",
       "      <td>34656</td>\n",
       "      <td>32222</td>\n",
       "      <td>37311</td>\n",
       "      <td>35792</td>\n",
       "      <td>31342</td>\n",
       "      <td>29424</td>\n",
       "      <td>29251</td>\n",
       "      <td>29635</td>\n",
       "      <td>24655</td>\n",
       "      <td>23154</td>\n",
       "      <td>22928</td>\n",
       "      <td>28163</td>\n",
       "      <td>26793</td>\n",
       "      <td>25650</td>\n",
       "      <td>23617</td>\n",
       "      <td>23265</td>\n",
       "      <td>24256</td>\n",
       "      <td>25928</td>\n",
       "      <td>24346</td>\n",
       "      <td>25214</td>\n",
       "      <td>21982</td>\n",
       "      <td>18927</td>\n",
       "      <td>19406</td>\n",
       "      <td>21657</td>\n",
       "      <td>24313</td>\n",
       "      <td>22079</td>\n",
       "      <td>23751</td>\n",
       "      <td>23491</td>\n",
       "      <td>20721</td>\n",
       "      <td>23113</td>\n",
       "      <td>22000</td>\n",
       "      <td>19709</td>\n",
       "      <td>18690</td>\n",
       "      <td>17506</td>\n",
       "      <td>17882</td>\n",
       "      <td>18318</td>\n",
       "      <td>17171</td>\n",
       "      <td>15402</td>\n",
       "      <td>16593</td>\n",
       "      <td>15861</td>\n",
       "      <td>13610</td>\n",
       "      <td>14821</td>\n",
       "      <td>13302</td>\n",
       "      <td>14690</td>\n",
       "      <td>11544</td>\n",
       "      <td>10421</td>\n",
       "      <td>11914</td>\n",
       "      <td>11601</td>\n",
       "      <td>10856</td>\n",
       "      <td>13109</td>\n",
       "      <td>11129</td>\n",
       "      <td>9194</td>\n",
       "      <td>10340</td>\n",
       "      <td>10821</td>\n",
       "      <td>9113</td>\n",
       "      <td>13160</td>\n",
       "      <td>10726</td>\n",
       "      <td>8053</td>\n",
       "      <td>9031</td>\n",
       "      <td>8950</td>\n",
       "      <td>7414</td>\n",
       "      <td>6511</td>\n",
       "      <td>5924</td>\n",
       "      <td>4915</td>\n",
       "      <td>4588</td>\n",
       "      <td>3511</td>\n",
       "      <td>2267</td>\n",
       "      <td>1777</td>\n",
       "      <td>1511</td>\n",
       "      <td>1071</td>\n",
       "      <td>672</td>\n",
       "      <td>416</td>\n",
       "      <td>261</td>\n",
       "      <td>179</td>\n",
       "      <td>102</td>\n",
       "    </tr>\n",
       "    <tr>\n",
       "      <th>99.0</th>\n",
       "      <td>6189</td>\n",
       "      <td>1021</td>\n",
       "      <td>737</td>\n",
       "      <td>764</td>\n",
       "      <td>686</td>\n",
       "      <td>662</td>\n",
       "      <td>611</td>\n",
       "      <td>715</td>\n",
       "      <td>444</td>\n",
       "      <td>448</td>\n",
       "      <td>331</td>\n",
       "      <td>478</td>\n",
       "      <td>384</td>\n",
       "      <td>290</td>\n",
       "      <td>210</td>\n",
       "      <td>206</td>\n",
       "      <td>179</td>\n",
       "      <td>236</td>\n",
       "      <td>147</td>\n",
       "      <td>162</td>\n",
       "      <td>191</td>\n",
       "      <td>250</td>\n",
       "      <td>169</td>\n",
       "      <td>285</td>\n",
       "      <td>148</td>\n",
       "      <td>157</td>\n",
       "      <td>115</td>\n",
       "      <td>97</td>\n",
       "      <td>83</td>\n",
       "      <td>80</td>\n",
       "      <td>97</td>\n",
       "      <td>156</td>\n",
       "      <td>197</td>\n",
       "      <td>157</td>\n",
       "      <td>148</td>\n",
       "      <td>215</td>\n",
       "      <td>144</td>\n",
       "      <td>131</td>\n",
       "      <td>97</td>\n",
       "      <td>116</td>\n",
       "      <td>98</td>\n",
       "      <td>77</td>\n",
       "      <td>94</td>\n",
       "      <td>123</td>\n",
       "      <td>143</td>\n",
       "      <td>203</td>\n",
       "      <td>166</td>\n",
       "      <td>202</td>\n",
       "      <td>124</td>\n",
       "      <td>113</td>\n",
       "      <td>104</td>\n",
       "      <td>79</td>\n",
       "      <td>83</td>\n",
       "      <td>82</td>\n",
       "      <td>51</td>\n",
       "      <td>57</td>\n",
       "      <td>47</td>\n",
       "      <td>42</td>\n",
       "      <td>39</td>\n",
       "      <td>18</td>\n",
       "      <td>62</td>\n",
       "      <td>35</td>\n",
       "      <td>46</td>\n",
       "      <td>41</td>\n",
       "      <td>32</td>\n",
       "      <td>49</td>\n",
       "      <td>36</td>\n",
       "      <td>27</td>\n",
       "      <td>28</td>\n",
       "      <td>24</td>\n",
       "      <td>34</td>\n",
       "      <td>29</td>\n",
       "      <td>25</td>\n",
       "      <td>13</td>\n",
       "      <td>14</td>\n",
       "      <td>21</td>\n",
       "      <td>29</td>\n",
       "      <td>32</td>\n",
       "      <td>22</td>\n",
       "      <td>28</td>\n",
       "      <td>37</td>\n",
       "      <td>40</td>\n",
       "      <td>36</td>\n",
       "      <td>35</td>\n",
       "      <td>47</td>\n",
       "      <td>35</td>\n",
       "      <td>38</td>\n",
       "      <td>33</td>\n",
       "      <td>39</td>\n",
       "      <td>35</td>\n",
       "      <td>42</td>\n",
       "      <td>35</td>\n",
       "      <td>27</td>\n",
       "      <td>29</td>\n",
       "      <td>44</td>\n",
       "      <td>31</td>\n",
       "      <td>36</td>\n",
       "      <td>35</td>\n",
       "      <td>25</td>\n",
       "      <td>18</td>\n",
       "      <td>23</td>\n",
       "      <td>57</td>\n",
       "      <td>32</td>\n",
       "      <td>21</td>\n",
       "      <td>44</td>\n",
       "      <td>49</td>\n",
       "      <td>23</td>\n",
       "      <td>53</td>\n",
       "      <td>28</td>\n",
       "      <td>27</td>\n",
       "      <td>37</td>\n",
       "      <td>49</td>\n",
       "      <td>47</td>\n",
       "      <td>30</td>\n",
       "      <td>57</td>\n",
       "      <td>30</td>\n",
       "      <td>38</td>\n",
       "      <td>38</td>\n",
       "      <td>29</td>\n",
       "      <td>23</td>\n",
       "      <td>46</td>\n",
       "      <td>35</td>\n",
       "      <td>34</td>\n",
       "      <td>36</td>\n",
       "      <td>20</td>\n",
       "      <td>19</td>\n",
       "      <td>17</td>\n",
       "      <td>33</td>\n",
       "      <td>16</td>\n",
       "      <td>37</td>\n",
       "      <td>22</td>\n",
       "      <td>20</td>\n",
       "      <td>42</td>\n",
       "      <td>44</td>\n",
       "      <td>29</td>\n",
       "      <td>26</td>\n",
       "      <td>22</td>\n",
       "      <td>25</td>\n",
       "      <td>18</td>\n",
       "      <td>15</td>\n",
       "      <td>24</td>\n",
       "      <td>40</td>\n",
       "      <td>21</td>\n",
       "      <td>34</td>\n",
       "      <td>26</td>\n",
       "      <td>22</td>\n",
       "      <td>24</td>\n",
       "      <td>34</td>\n",
       "      <td>33</td>\n",
       "      <td>35</td>\n",
       "      <td>19</td>\n",
       "      <td>18</td>\n",
       "      <td>39</td>\n",
       "      <td>12</td>\n",
       "      <td>36</td>\n",
       "      <td>17</td>\n",
       "      <td>49</td>\n",
       "      <td>31</td>\n",
       "      <td>38</td>\n",
       "      <td>62</td>\n",
       "      <td>69</td>\n",
       "      <td>63</td>\n",
       "      <td>47</td>\n",
       "      <td>31</td>\n",
       "      <td>53</td>\n",
       "      <td>58</td>\n",
       "      <td>35</td>\n",
       "      <td>41</td>\n",
       "      <td>40</td>\n",
       "      <td>39</td>\n",
       "      <td>61</td>\n",
       "      <td>73</td>\n",
       "      <td>33</td>\n",
       "      <td>44</td>\n",
       "      <td>36</td>\n",
       "      <td>25</td>\n",
       "      <td>22</td>\n",
       "      <td>43</td>\n",
       "      <td>43</td>\n",
       "      <td>34</td>\n",
       "      <td>36</td>\n",
       "      <td>25</td>\n",
       "      <td>21</td>\n",
       "      <td>11</td>\n",
       "      <td>15</td>\n",
       "      <td>49</td>\n",
       "      <td>20</td>\n",
       "      <td>14</td>\n",
       "      <td>23</td>\n",
       "      <td>14</td>\n",
       "      <td>22</td>\n",
       "      <td>16</td>\n",
       "      <td>19</td>\n",
       "      <td>21</td>\n",
       "      <td>11</td>\n",
       "      <td>16</td>\n",
       "      <td>10</td>\n",
       "      <td>11</td>\n",
       "      <td>17</td>\n",
       "      <td>18</td>\n",
       "      <td>20</td>\n",
       "      <td>9</td>\n",
       "      <td>13</td>\n",
       "      <td>8</td>\n",
       "      <td>10</td>\n",
       "      <td>10</td>\n",
       "      <td>8</td>\n",
       "      <td>16</td>\n",
       "      <td>25</td>\n",
       "      <td>32</td>\n",
       "      <td>21</td>\n",
       "      <td>6</td>\n",
       "      <td>7</td>\n",
       "      <td>10</td>\n",
       "      <td>6</td>\n",
       "      <td>11</td>\n",
       "      <td>2</td>\n",
       "      <td>8</td>\n",
       "      <td>7</td>\n",
       "      <td>3</td>\n",
       "      <td>4</td>\n",
       "      <td>7</td>\n",
       "      <td>4</td>\n",
       "      <td>6</td>\n",
       "      <td>9</td>\n",
       "      <td>4</td>\n",
       "      <td>10</td>\n",
       "      <td>5</td>\n",
       "      <td>6</td>\n",
       "      <td>12</td>\n",
       "      <td>5</td>\n",
       "      <td>11</td>\n",
       "      <td>5</td>\n",
       "      <td>4</td>\n",
       "      <td>7</td>\n",
       "      <td>15</td>\n",
       "      <td>5</td>\n",
       "      <td>5</td>\n",
       "      <td>2</td>\n",
       "      <td>3</td>\n",
       "      <td>5</td>\n",
       "      <td>3</td>\n",
       "      <td>11</td>\n",
       "      <td>3</td>\n",
       "      <td>4</td>\n",
       "      <td>3</td>\n",
       "      <td>3</td>\n",
       "      <td>5</td>\n",
       "      <td>4</td>\n",
       "      <td>0</td>\n",
       "      <td>1</td>\n",
       "      <td>0</td>\n",
       "      <td>4</td>\n",
       "      <td>0</td>\n",
       "      <td>0</td>\n",
       "      <td>0</td>\n",
       "      <td>0</td>\n",
       "    </tr>\n",
       "  </tbody>\n",
       "</table>\n",
       "</div>"
      ],
      "text/plain": [
       "Relnshp_Mnths   0.0     1.0     2.0     3.0     4.0     5.0     6.0     7.0    \\\n",
       "Relnshp_flag                                                                    \n",
       "1.0            128333  131558  129522  131981  126756  138956  126565  128547   \n",
       "99.0             6189    1021     737     764     686     662     611     715   \n",
       "\n",
       "Relnshp_Mnths   8.0     9.0     10.0    11.0    12.0    13.0    14.0    15.0   \\\n",
       "Relnshp_flag                                                                    \n",
       "1.0            155259  177509  205834  124240  242776  123700  126588  121510   \n",
       "99.0              444     448     331     478     384     290     210     206   \n",
       "\n",
       "Relnshp_Mnths   16.0    17.0    18.0    19.0    20.0    21.0    22.0    23.0   \\\n",
       "Relnshp_flag                                                                    \n",
       "1.0            135128  124819  125039  118534  144859  214545  154640  177554   \n",
       "99.0              179     236     147     162     191     250     169     285   \n",
       "\n",
       "Relnshp_Mnths   24.0    25.0    26.0    27.0    28.0    29.0    30.0    31.0   \\\n",
       "Relnshp_flag                                                                    \n",
       "1.0            166911  108291  113373  107861  104737  102735  103020  109344   \n",
       "99.0              148     157     115      97      83      80      97     156   \n",
       "\n",
       "Relnshp_Mnths   32.0    33.0    34.0    35.0    36.0    37.0    38.0   39.0   \\\n",
       "Relnshp_flag                                                                   \n",
       "1.0            138826  174195  147809  149521  164281  100359  105695  98009   \n",
       "99.0              197     157     148     215     144     131      97    116   \n",
       "\n",
       "Relnshp_Mnths   40.0   41.0   42.0    43.0    44.0    45.0    46.0    47.0   \\\n",
       "Relnshp_flag                                                                  \n",
       "1.0            103387  99891  92464  136432  150694  168644  141558  123632   \n",
       "99.0               98     77     94     123     143     203     166     202   \n",
       "\n",
       "Relnshp_Mnths   48.0   49.0   50.0   51.0   52.0   53.0   54.0   55.0   56.0   \\\n",
       "Relnshp_flag                                                                    \n",
       "1.0            118701  85846  85846  79268  85645  82782  72028  60673  46079   \n",
       "99.0              124    113    104     79     83     82     51     57     47   \n",
       "\n",
       "Relnshp_Mnths  57.0   58.0   59.0   60.0   61.0   62.0   63.0   64.0   65.0   \\\n",
       "Relnshp_flag                                                                   \n",
       "1.0            34730  27833  23982  22872  28053  31102  34835  34124  29558   \n",
       "99.0              42     39     18     62     35     46     41     32     49   \n",
       "\n",
       "Relnshp_Mnths  66.0   67.0   68.0   69.0   70.0   71.0   72.0   73.0   74.0   \\\n",
       "Relnshp_flag                                                                   \n",
       "1.0            29824  26723  27892  26110  24534  23855  23606  19242  16007   \n",
       "99.0              36     27     28     24     34     29     25     13     14   \n",
       "\n",
       "Relnshp_Mnths  75.0   76.0   77.0   78.0   79.0   80.0   81.0   82.0   83.0   \\\n",
       "Relnshp_flag                                                                   \n",
       "1.0            14431  17536  24375  25890  25519  33769  48041  37275  38597   \n",
       "99.0              21     29     32     22     28     37     40     36     35   \n",
       "\n",
       "Relnshp_Mnths  84.0   85.0   86.0   87.0   88.0   89.0   90.0   91.0   92.0   \\\n",
       "Relnshp_flag                                                                   \n",
       "1.0            38885  38323  40680  43174  41960  43487  42092  39048  37917   \n",
       "99.0              47     35     38     33     39     35     42     35     27   \n",
       "\n",
       "Relnshp_Mnths  93.0   94.0   95.0   96.0   97.0   98.0   99.0   100.0  101.0  \\\n",
       "Relnshp_flag                                                                   \n",
       "1.0            43703  39901  41326  43519  42622  42533  37999  38473  41718   \n",
       "99.0              29     44     31     36     35     25     18     23     57   \n",
       "\n",
       "Relnshp_Mnths  102.0  103.0  104.0  105.0  106.0  107.0  108.0  109.0  110.0  \\\n",
       "Relnshp_flag                                                                   \n",
       "1.0            47543  42244  47025  50455  43110  46467  45377  44001  49312   \n",
       "99.0              32     21     44     49     23     53     28     27     37   \n",
       "\n",
       "Relnshp_Mnths  111.0  112.0  113.0  114.0  115.0  116.0  117.0  118.0  119.0  \\\n",
       "Relnshp_flag                                                                   \n",
       "1.0            43612  44855  43457  45383  43436  42507  55231  46030  46781   \n",
       "99.0              49     47     30     57     30     38     38     29     23   \n",
       "\n",
       "Relnshp_Mnths  120.0  121.0  122.0  123.0  124.0  125.0  126.0  127.0  128.0  \\\n",
       "Relnshp_flag                                                                   \n",
       "1.0            43513  38242  38706  41038  42832  44821  43972  41082  41630   \n",
       "99.0              46     35     34     36     20     19     17     33     16   \n",
       "\n",
       "Relnshp_Mnths  129.0  130.0  131.0  132.0  133.0  134.0  135.0  136.0  137.0  \\\n",
       "Relnshp_flag                                                                   \n",
       "1.0            39336  38645  33894  37714  38281  44135  37248  40978  42100   \n",
       "99.0              37     22     20     42     44     29     26     22     25   \n",
       "\n",
       "Relnshp_Mnths  138.0  139.0  140.0  141.0  142.0  143.0  144.0  145.0  146.0  \\\n",
       "Relnshp_flag                                                                   \n",
       "1.0            42268  38906  40685  40207  40238  37457  38760  37052  38631   \n",
       "99.0              18     15     24     40     21     34     26     22     24   \n",
       "\n",
       "Relnshp_Mnths  147.0  148.0  149.0  150.0  151.0  152.0  153.0  154.0  155.0  \\\n",
       "Relnshp_flag                                                                   \n",
       "1.0            34668  36017  35158  37777  38484  36771  37277  33575  30884   \n",
       "99.0              34     33     35     19     18     39     12     36     17   \n",
       "\n",
       "Relnshp_Mnths  156.0  157.0  158.0  159.0  160.0  161.0  162.0  163.0  164.0  \\\n",
       "Relnshp_flag                                                                   \n",
       "1.0            45662  40395  39446  50917  54120  58864  68089  60432  70828   \n",
       "99.0              49     31     38     62     69     63     47     31     53   \n",
       "\n",
       "Relnshp_Mnths  165.0  166.0  167.0  168.0  169.0  170.0  171.0  172.0  173.0  \\\n",
       "Relnshp_flag                                                                   \n",
       "1.0            74787  66424  52459  63828  65622  61857  59670  66052  54709   \n",
       "99.0              58     35     41     40     39     61     73     33     44   \n",
       "\n",
       "Relnshp_Mnths  174.0  175.0  176.0  177.0  178.0  179.0  180.0  181.0  182.0  \\\n",
       "Relnshp_flag                                                                   \n",
       "1.0            55045  47379  44757  47754  44894  38563  44272  33507  34656   \n",
       "99.0              36     25     22     43     43     34     36     25     21   \n",
       "\n",
       "Relnshp_Mnths  183.0  184.0  185.0  186.0  187.0  188.0  189.0  190.0  191.0  \\\n",
       "Relnshp_flag                                                                   \n",
       "1.0            32222  37311  35792  31342  29424  29251  29635  24655  23154   \n",
       "99.0              11     15     49     20     14     23     14     22     16   \n",
       "\n",
       "Relnshp_Mnths  192.0  193.0  194.0  195.0  196.0  197.0  198.0  199.0  200.0  \\\n",
       "Relnshp_flag                                                                   \n",
       "1.0            22928  28163  26793  25650  23617  23265  24256  25928  24346   \n",
       "99.0              19     21     11     16     10     11     17     18     20   \n",
       "\n",
       "Relnshp_Mnths  201.0  202.0  203.0  204.0  205.0  206.0  207.0  208.0  209.0  \\\n",
       "Relnshp_flag                                                                   \n",
       "1.0            25214  21982  18927  19406  21657  24313  22079  23751  23491   \n",
       "99.0               9     13      8     10     10      8     16     25     32   \n",
       "\n",
       "Relnshp_Mnths  210.0  211.0  212.0  213.0  214.0  215.0  216.0  217.0  218.0  \\\n",
       "Relnshp_flag                                                                   \n",
       "1.0            20721  23113  22000  19709  18690  17506  17882  18318  17171   \n",
       "99.0              21      6      7     10      6     11      2      8      7   \n",
       "\n",
       "Relnshp_Mnths  219.0  220.0  221.0  222.0  223.0  224.0  225.0  226.0  227.0  \\\n",
       "Relnshp_flag                                                                   \n",
       "1.0            15402  16593  15861  13610  14821  13302  14690  11544  10421   \n",
       "99.0               3      4      7      4      6      9      4     10      5   \n",
       "\n",
       "Relnshp_Mnths  228.0  229.0  230.0  231.0  232.0  233.0  234.0  235.0  236.0  \\\n",
       "Relnshp_flag                                                                   \n",
       "1.0            11914  11601  10856  13109  11129   9194  10340  10821   9113   \n",
       "99.0               6     12      5     11      5      4      7     15      5   \n",
       "\n",
       "Relnshp_Mnths  237.0  238.0  239.0  240.0  241.0  242.0  243.0  244.0  245.0  \\\n",
       "Relnshp_flag                                                                   \n",
       "1.0            13160  10726   8053   9031   8950   7414   6511   5924   4915   \n",
       "99.0               5      2      3      5      3     11      3      4      3   \n",
       "\n",
       "Relnshp_Mnths  246.0  247.0  248.0  249.0  250.0  251.0  252.0  253.0  254.0  \\\n",
       "Relnshp_flag                                                                   \n",
       "1.0             4588   3511   2267   1777   1511   1071    672    416    261   \n",
       "99.0               3      5      4      0      1      0      4      0      0   \n",
       "\n",
       "Relnshp_Mnths  255.0  256.0  \n",
       "Relnshp_flag                 \n",
       "1.0              179    102  \n",
       "99.0               0      0  "
      ]
     },
     "execution_count": 79,
     "metadata": {},
     "output_type": "execute_result"
    }
   ],
   "source": [
    "pd.crosstab(train[\"Relnshp_flag\"], train[\"Relnshp_Mnths\"])"
   ]
  },
  {
   "cell_type": "markdown",
   "metadata": {},
   "source": [
    "The newer the customer, there is a high likelihood of a customer to have reltionship_flag to be 99. However, the percentage of new customers having 99 Relationship flag is less than 0.1%, so it will be better to impoute the values by most frequent value"
   ]
  },
  {
   "cell_type": "code",
   "execution_count": 80,
   "metadata": {},
   "outputs": [],
   "source": [
    "train.loc[train[\"Relnshp_flag\"].isnull(), \"Relnshp_flag\"] = 1"
   ]
  },
  {
   "cell_type": "markdown",
   "metadata": {},
   "source": [
    "### Drop Address_type and Customer_address"
   ]
  },
  {
   "cell_type": "markdown",
   "metadata": {},
   "source": [
    "\n",
    "Addres_type doesn't seem to be useful, and the province code is not needed because the name of the province exists in nomprov"
   ]
  },
  {
   "cell_type": "code",
   "execution_count": 81,
   "metadata": {},
   "outputs": [],
   "source": [
    "train.drop([\"Address_type\",\"Customer_address\"],axis=1,inplace=True)"
   ]
  },
  {
   "cell_type": "code",
   "execution_count": 82,
   "metadata": {},
   "outputs": [],
   "source": [
    "test.drop([\"Address_type\",\"Customer_address\"],axis=1,inplace=True)"
   ]
  },
  {
   "cell_type": "markdown",
   "metadata": {},
   "source": [
    "## UNKNOWN CATEGORY"
   ]
  },
  {
   "cell_type": "code",
   "execution_count": 83,
   "metadata": {},
   "outputs": [
    {
     "name": "stdout",
     "output_type": "stream",
     "text": [
      "Unique values for Sex:\n",
      "['H' 'V' nan]\n",
      "\n",
      "Unique values for Residence_flag:\n",
      "['S' nan 'N']\n",
      "\n",
      "Unique values for Forigner_flag:\n",
      "['N' 'S' nan]\n",
      "\n",
      "Unique values for Emp_spouse_flag:\n",
      "[nan 'N' 'S']\n",
      "\n",
      "Unique values for Channel_when_joined:\n",
      "['KHL' 'KHE' 'KHD' 'KFA' 'KFC' 'KAT' nan 'KAZ' 'RED' 'KHC' 'KHK' 'KGN'\n",
      " 'KHM' 'KHO' 'KDH' 'KEH' 'KAD' 'KBG' 'KGC' 'KHF' 'KFK' 'KHN' 'KHA' 'KAF'\n",
      " 'KGX' 'KFD' 'KAG' 'KFG' 'KAB' 'KCC' 'KAE' 'KAH' 'KAR' 'KFJ' 'KFL' 'KAI'\n",
      " 'KFU' 'KAQ' 'KFS' 'KAA' 'KFP' 'KAJ' 'KFN' 'KGV' 'KGY' 'KFF' 'KAP' 'KDE'\n",
      " 'KFV' '013' 'K00' 'KAK' 'KCK' 'KCL' 'KAY' 'KBU' 'KDR' 'KAC' 'KDT' 'KCG'\n",
      " 'KDO' 'KDY' 'KBQ' 'KDA' 'KBO' 'KCI' 'KEC' 'KBZ' 'KES' 'KDX' 'KAS' '007'\n",
      " 'KEU' 'KCA' 'KAL' 'KDC' 'KAW' 'KCS' 'KCB' 'KDU' 'KDQ' 'KCN' 'KCM' '004'\n",
      " 'KCH' 'KCD' 'KCE' 'KEV' 'KBL' 'KEA' 'KBH' 'KDV' 'KFT' 'KEY' 'KAO' 'KEJ'\n",
      " 'KEO' 'KEI' 'KEW' 'KDZ' 'KBV' 'KBR' 'KBF' 'KDP' 'KCO' 'KCF' 'KCV' 'KAM'\n",
      " 'KEZ' 'KBD' 'KAN' 'KBY' 'KCT' 'KDD' 'KBW' 'KCU' 'KBX' 'KDB' 'KBS' 'KBE'\n",
      " 'KCX' 'KBP' 'KBN' 'KEB' 'KDS' 'KEL' 'KDG' 'KDF' 'KEF' 'KCP' 'KDM' 'KBB'\n",
      " 'KDW' 'KBJ' 'KFI' 'KBM' 'KEG' 'KEN' 'KEQ' 'KAV' 'KFH' 'KFM' 'KAU' 'KED'\n",
      " 'KFR' 'KEK' 'KFB' 'KGW' 'KFE' 'KGU' 'KDI' 'KDN' 'KEE' 'KCR' 'KCQ' 'KEM'\n",
      " 'KCJ' 'KHQ' 'KDL' '025' 'KHP' 'KHR' 'KHS']\n",
      "\n",
      "Unique values for Segment:\n",
      "['02 - PARTICULARES' '03 - UNIVERSITARIO' nan '01 - TOP']\n",
      "\n"
     ]
    }
   ],
   "source": [
    "string_data = train.select_dtypes(include=[\"object\"])\n",
    "missing_columns = [col for col in string_data if string_data[col].isnull().any()]\n",
    "for col in missing_columns:\n",
    "    print(\"Unique values for {0}:\\n{1}\\n\".format(col,string_data[col].unique()))\n",
    "del string_data"
   ]
  },
  {
   "cell_type": "code",
   "execution_count": 84,
   "metadata": {},
   "outputs": [],
   "source": [
    "unknown_cols = [col for col in missing_columns]\n",
    "for col in unknown_cols:\n",
    "    train.loc[train[col].isnull(),col] = \"UNKNOWN\""
   ]
  },
  {
   "cell_type": "code",
   "execution_count": 85,
   "metadata": {},
   "outputs": [],
   "source": [
    "train[\"Last_date_Prim_Cust\"] = train[\"Last_date_Prim_Cust\"].astype(\"object\")"
   ]
  },
  {
   "cell_type": "code",
   "execution_count": 86,
   "metadata": {},
   "outputs": [],
   "source": [
    "train.loc[train.Last_date_Prim_Cust.isnull(),\"Last_date_Prim_Cust\"] = \"UNKNOWN\""
   ]
  },
  {
   "cell_type": "code",
   "execution_count": 87,
   "metadata": {},
   "outputs": [],
   "source": [
    "test[\"Last_date_Prim_Cust\"] = test[\"Last_date_Prim_Cust\"].astype(\"object\")"
   ]
  },
  {
   "cell_type": "code",
   "execution_count": 88,
   "metadata": {},
   "outputs": [
    {
     "name": "stdout",
     "output_type": "stream",
     "text": [
      "Unique values for Sex:\n",
      "['V' 'H' nan]\n",
      "\n",
      "Unique values for Last_date_Prim_Cust:\n",
      "[NaT Timestamp('2016-06-03 00:00:00') Timestamp('2016-06-24 00:00:00')\n",
      " Timestamp('2016-06-22 00:00:00') Timestamp('2016-06-02 00:00:00')\n",
      " Timestamp('2016-06-14 00:00:00') Timestamp('2016-06-07 00:00:00')\n",
      " Timestamp('2016-06-28 00:00:00') Timestamp('2016-06-27 00:00:00')\n",
      " Timestamp('2016-06-20 00:00:00') Timestamp('2016-06-10 00:00:00')\n",
      " Timestamp('2016-06-01 00:00:00') Timestamp('2016-06-08 00:00:00')\n",
      " Timestamp('2016-06-17 00:00:00') Timestamp('2016-06-06 00:00:00')\n",
      " Timestamp('2016-06-23 00:00:00') Timestamp('2016-06-21 00:00:00')\n",
      " Timestamp('2016-06-29 00:00:00') Timestamp('2016-06-16 00:00:00')\n",
      " Timestamp('2016-06-09 00:00:00') Timestamp('2016-06-15 00:00:00')\n",
      " Timestamp('2016-06-13 00:00:00')]\n",
      "\n",
      "Unique values for Emp_spouse_flag:\n",
      "['N' nan 'S']\n",
      "\n",
      "Unique values for Channel_when_joined:\n",
      "['KAT' 'KHE' 'KFC' 'KHN' 'KFA' 'KHM' 'KHL' 'RED' 'KHQ' 'KHO' 'KHK' 'KAZ'\n",
      " 'KEH' 'KBG' 'KHF' 'KHC' 'KHD' nan 'KAK' 'KAD' 'KDH' 'KGC' 'KFK' 'KGN'\n",
      " 'KHP' 'KHS' '013' 'KFD' 'KEW' 'KEG' 'KAE' 'KAB' 'KAG' 'KCC' 'KAF' 'KAC'\n",
      " 'KAY' 'KES' 'KDU' 'KAA' 'KAP' 'KEN' 'KBZ' 'KEY' '007' 'KBJ' 'KDM' 'KFP'\n",
      " 'KDR' 'KAN' 'KEV' 'KCH' 'KAR' 'KAI' 'KAS' 'KCI' 'KFJ' 'KCF' 'KAQ' 'KAJ'\n",
      " 'KEJ' 'KEL' 'KFT' '025' 'KAH' 'KAW' 'KFS' 'KDT' 'KGV' 'KFG' 'KAL' 'KGY'\n",
      " 'KCM' 'KCB' 'KDQ' 'KFN' 'KGX' 'KBR' 'KEZ' 'KCG' 'KAO' 'KEU' 'KCL' 'KBM'\n",
      " 'KFF' 'KFI' 'KFL' 'KFH' 'KCU' 'KBH' 'KBB' 'KCO' 'KEI' 'KDY' 'KCD' 'KBO'\n",
      " 'KEA' 'KBL' 'KDO' 'KCA' 'KBU' 'KBQ' 'KDV' 'KCK' 'KDC' '004' 'KCE' 'KDE'\n",
      " 'KEC' 'KDX' 'KDA' 'KDS' 'KFU' 'KEB' 'KDG' 'KAM' 'KDF' 'KCN' 'KDZ' 'KCS'\n",
      " 'KCR' 'KDW' 'KEO' 'KFM' 'KEK' 'KED' 'KDN' 'KBF' 'KGW' 'KCQ' 'KEQ' 'KBW'\n",
      " 'KBE' 'KAV' 'KBY' 'KFV' 'KBS' 'KDP' 'KFE' 'KBD' 'KBV' 'KDD' 'KEF' 'KCP'\n",
      " 'KBX' 'KDB' 'KBN' 'KCT' 'KCV' 'KBP' 'KCX' 'KAU' 'KFR' 'KDI' 'KFB' 'KGU'\n",
      " 'KHA' 'K00' 'KEE' 'KHR' 'KCJ' 'KEM' 'KDL']\n",
      "\n",
      "Unique values for Segment:\n",
      "['01 - TOP' '02 - PARTICULARES' '03 - UNIVERSITARIO' nan]\n",
      "\n"
     ]
    }
   ],
   "source": [
    "string_data = test.select_dtypes(include=[\"object\"])\n",
    "missing_columns = [col for col in string_data if string_data[col].isnull().any()]\n",
    "for col in missing_columns:\n",
    "    print(\"Unique values for {0}:\\n{1}\\n\".format(col,string_data[col].unique()))\n",
    "del string_data"
   ]
  },
  {
   "cell_type": "code",
   "execution_count": 89,
   "metadata": {},
   "outputs": [],
   "source": [
    "unknown_cols = [col for col in missing_columns]\n",
    "for col in unknown_cols:\n",
    "    test.loc[test[col].isnull(),col] = \"UNKNOWN\""
   ]
  },
  {
   "cell_type": "markdown",
   "metadata": {},
   "source": [
    "## PRODUCT CATEGORY"
   ]
  },
  {
   "cell_type": "code",
   "execution_count": 90,
   "metadata": {},
   "outputs": [
    {
     "data": {
      "text/plain": [
       "0.0    12885285\n",
       "1.0      745961\n",
       "Name: Payroll, dtype: int64"
      ]
     },
     "execution_count": 90,
     "metadata": {},
     "output_type": "execute_result"
    }
   ],
   "source": [
    "train[\"Payroll\"].value_counts()"
   ]
  },
  {
   "cell_type": "code",
   "execution_count": 91,
   "metadata": {},
   "outputs": [
    {
     "data": {
      "text/plain": [
       "0.0    12821161\n",
       "1.0      810085\n",
       "Name: Pensions, dtype: int64"
      ]
     },
     "execution_count": 91,
     "metadata": {},
     "output_type": "execute_result"
    }
   ],
   "source": [
    "train[\"Pensions\"].value_counts()"
   ]
  },
  {
   "cell_type": "code",
   "execution_count": 92,
   "metadata": {},
   "outputs": [],
   "source": [
    "train.loc[train[\"Payroll\"].isnull(),\"Payroll\"] = 0\n",
    "train.loc[train[\"Pensions\"].isnull(),\"Pensions\"] = 0"
   ]
  },
  {
   "cell_type": "markdown",
   "metadata": {},
   "source": [
    "# RECHECK NULL VALUES"
   ]
  },
  {
   "cell_type": "code",
   "execution_count": 93,
   "metadata": {},
   "outputs": [
    {
     "data": {
      "text/plain": [
       "Month_status_date         0\n",
       "Customer_ID               0\n",
       "Employee_Index            0\n",
       "Customer_country          0\n",
       "Sex                       0\n",
       "Age                       0\n",
       "Join_date                 0\n",
       "New_customer              0\n",
       "Relnshp_Mnths             0\n",
       "Relnshp_flag              0\n",
       "Last_date_Prim_Cust       0\n",
       "Cust_type_beg_Mth         0\n",
       "Cust_Reln_type_beg_mth    0\n",
       "Residence_flag            0\n",
       "Forigner_flag             0\n",
       "Emp_spouse_flag           0\n",
       "Channel_when_joined       0\n",
       "Deceased_flag             0\n",
       "Address_detail            0\n",
       "Activity_flag             0\n",
       "Gross_household_income    0\n",
       "Segment                   0\n",
       "Saving_account            0\n",
       "Guarantees                0\n",
       "Cur_account               0\n",
       "Derivative_account        0\n",
       "Payroll_account           0\n",
       "Junior_account            0\n",
       "Particular_acct1          0\n",
       "Particular_acct2          0\n",
       "Particular_acct3          0\n",
       "Short_term_deposites      0\n",
       "Med_term_deposites        0\n",
       "Long_term_deposites       0\n",
       "e-account                 0\n",
       "Funds                     0\n",
       "Mortgage                  0\n",
       "Pension                   0\n",
       "Loans                     0\n",
       "Taxes                     0\n",
       "Credit_card               0\n",
       "Securities                0\n",
       "Home_account              0\n",
       "Payroll                   0\n",
       "Pensions                  0\n",
       "Direct_debit              0\n",
       "dtype: int64"
      ]
     },
     "execution_count": 93,
     "metadata": {},
     "output_type": "execute_result"
    }
   ],
   "source": [
    "train.isnull().sum()"
   ]
  },
  {
   "cell_type": "code",
   "execution_count": 94,
   "metadata": {},
   "outputs": [
    {
     "data": {
      "text/plain": [
       "Month_status_date         0\n",
       "Customer_ID               0\n",
       "Employee_Index            0\n",
       "Customer_country          0\n",
       "Sex                       0\n",
       "Age                       0\n",
       "Join_date                 0\n",
       "New_customer              0\n",
       "Relnshp_Mnths             0\n",
       "Relnshp_flag              0\n",
       "Last_date_Prim_Cust       0\n",
       "Cust_type_beg_Mth         0\n",
       "Cust_Reln_type_beg_mth    0\n",
       "Residence_flag            0\n",
       "Forigner_flag             0\n",
       "Emp_spouse_flag           0\n",
       "Channel_when_joined       0\n",
       "Deceased_flag             0\n",
       "Address_detail            0\n",
       "Activity_flag             0\n",
       "Gross_household_income    0\n",
       "Segment                   0\n",
       "dtype: int64"
      ]
     },
     "execution_count": 94,
     "metadata": {},
     "output_type": "execute_result"
    }
   ],
   "source": [
    "test.isnull().sum()"
   ]
  },
  {
   "cell_type": "markdown",
   "metadata": {},
   "source": [
    "## REDUCE THE SIZE OF TRAIN AND TEST DATASET BY CHANGING DATA TYPE"
   ]
  },
  {
   "cell_type": "code",
   "execution_count": 95,
   "metadata": {},
   "outputs": [
    {
     "name": "stdout",
     "output_type": "stream",
     "text": [
      "<class 'pandas.core.frame.DataFrame'>\n",
      "RangeIndex: 13647309 entries, 0 to 13647308\n",
      "Data columns (total 46 columns):\n",
      " #   Column                  Dtype         \n",
      "---  ------                  -----         \n",
      " 0   Month_status_date       datetime64[ns]\n",
      " 1   Customer_ID             int64         \n",
      " 2   Employee_Index          object        \n",
      " 3   Customer_country        object        \n",
      " 4   Sex                     object        \n",
      " 5   Age                     float64       \n",
      " 6   Join_date               object        \n",
      " 7   New_customer            float64       \n",
      " 8   Relnshp_Mnths           float64       \n",
      " 9   Relnshp_flag            float64       \n",
      " 10  Last_date_Prim_Cust     object        \n",
      " 11  Cust_type_beg_Mth       object        \n",
      " 12  Cust_Reln_type_beg_mth  category      \n",
      " 13  Residence_flag          object        \n",
      " 14  Forigner_flag           object        \n",
      " 15  Emp_spouse_flag         object        \n",
      " 16  Channel_when_joined     object        \n",
      " 17  Deceased_flag           object        \n",
      " 18  Address_detail          object        \n",
      " 19  Activity_flag           float64       \n",
      " 20  Gross_household_income  object        \n",
      " 21  Segment                 object        \n",
      " 22  Saving_account          float16       \n",
      " 23  Guarantees              float16       \n",
      " 24  Cur_account             float16       \n",
      " 25  Derivative_account      float16       \n",
      " 26  Payroll_account         float16       \n",
      " 27  Junior_account          float16       \n",
      " 28  Particular_acct1        float16       \n",
      " 29  Particular_acct2        float16       \n",
      " 30  Particular_acct3        float16       \n",
      " 31  Short_term_deposites    float16       \n",
      " 32  Med_term_deposites      float16       \n",
      " 33  Long_term_deposites     float16       \n",
      " 34  e-account               float16       \n",
      " 35  Funds                   float16       \n",
      " 36  Mortgage                float16       \n",
      " 37  Pension                 float16       \n",
      " 38  Loans                   float16       \n",
      " 39  Taxes                   float16       \n",
      " 40  Credit_card             float16       \n",
      " 41  Securities              float16       \n",
      " 42  Home_account            float16       \n",
      " 43  Payroll                 float16       \n",
      " 44  Pensions                float16       \n",
      " 45  Direct_debit            float16       \n",
      "dtypes: category(1), datetime64[ns](1), float16(24), float64(5), int64(1), object(14)\n",
      "memory usage: 2.8+ GB\n"
     ]
    }
   ],
   "source": [
    "train.info()"
   ]
  },
  {
   "cell_type": "code",
   "execution_count": 96,
   "metadata": {},
   "outputs": [],
   "source": [
    "train.loc[: ,\"Saving_account\": \"Direct_debit\"]= train.loc[: ,\"Saving_account\": \"Direct_debit\"].astype(\"int8\")"
   ]
  },
  {
   "cell_type": "code",
   "execution_count": 97,
   "metadata": {},
   "outputs": [],
   "source": [
    "train[\"Activity_flag\"] = train[\"Activity_flag\"].astype(\"int8\")\n",
    "train[\"New_customer\"] = train[\"New_customer\"].astype(\"int8\")\n",
    "train[\"Relnshp_flag\"] = train[\"Relnshp_flag\"].astype(\"int8\")\n",
    "train[\"Relnshp_Mnths\"] = train[\"Relnshp_Mnths\"].astype(\"int64\")"
   ]
  },
  {
   "cell_type": "code",
   "execution_count": 98,
   "metadata": {},
   "outputs": [],
   "source": [
    "train[\"Gross_household_income\"] = train[\"Gross_household_income\"].astype(\"float\")"
   ]
  },
  {
   "cell_type": "code",
   "execution_count": 99,
   "metadata": {},
   "outputs": [],
   "source": [
    "train[\"Cust_type_beg_Mth\"] = train[\"Cust_type_beg_Mth\"].astype(\"object\")"
   ]
  },
  {
   "cell_type": "code",
   "execution_count": 100,
   "metadata": {},
   "outputs": [],
   "source": [
    "train[\"Cust_Reln_type_beg_mth\"] = train[\"Cust_Reln_type_beg_mth\"].astype(\"object\")"
   ]
  },
  {
   "cell_type": "code",
   "execution_count": 101,
   "metadata": {},
   "outputs": [],
   "source": [
    "train[\"Age\"] = train[\"Age\"].astype(\"int64\")"
   ]
  },
  {
   "cell_type": "code",
   "execution_count": 102,
   "metadata": {},
   "outputs": [
    {
     "name": "stdout",
     "output_type": "stream",
     "text": [
      "<class 'pandas.core.frame.DataFrame'>\n",
      "RangeIndex: 13647309 entries, 0 to 13647308\n",
      "Data columns (total 46 columns):\n",
      " #   Column                  Dtype         \n",
      "---  ------                  -----         \n",
      " 0   Month_status_date       datetime64[ns]\n",
      " 1   Customer_ID             int64         \n",
      " 2   Employee_Index          object        \n",
      " 3   Customer_country        object        \n",
      " 4   Sex                     object        \n",
      " 5   Age                     int64         \n",
      " 6   Join_date               object        \n",
      " 7   New_customer            int8          \n",
      " 8   Relnshp_Mnths           int64         \n",
      " 9   Relnshp_flag            int8          \n",
      " 10  Last_date_Prim_Cust     object        \n",
      " 11  Cust_type_beg_Mth       object        \n",
      " 12  Cust_Reln_type_beg_mth  object        \n",
      " 13  Residence_flag          object        \n",
      " 14  Forigner_flag           object        \n",
      " 15  Emp_spouse_flag         object        \n",
      " 16  Channel_when_joined     object        \n",
      " 17  Deceased_flag           object        \n",
      " 18  Address_detail          object        \n",
      " 19  Activity_flag           int8          \n",
      " 20  Gross_household_income  float64       \n",
      " 21  Segment                 object        \n",
      " 22  Saving_account          int8          \n",
      " 23  Guarantees              int8          \n",
      " 24  Cur_account             int8          \n",
      " 25  Derivative_account      int8          \n",
      " 26  Payroll_account         int8          \n",
      " 27  Junior_account          int8          \n",
      " 28  Particular_acct1        int8          \n",
      " 29  Particular_acct2        int8          \n",
      " 30  Particular_acct3        int8          \n",
      " 31  Short_term_deposites    int8          \n",
      " 32  Med_term_deposites      int8          \n",
      " 33  Long_term_deposites     int8          \n",
      " 34  e-account               int8          \n",
      " 35  Funds                   int8          \n",
      " 36  Mortgage                int8          \n",
      " 37  Pension                 int8          \n",
      " 38  Loans                   int8          \n",
      " 39  Taxes                   int8          \n",
      " 40  Credit_card             int8          \n",
      " 41  Securities              int8          \n",
      " 42  Home_account            int8          \n",
      " 43  Payroll                 int8          \n",
      " 44  Pensions                int8          \n",
      " 45  Direct_debit            int8          \n",
      "dtypes: datetime64[ns](1), float64(1), int64(3), int8(27), object(14)\n",
      "memory usage: 2.3+ GB\n"
     ]
    }
   ],
   "source": [
    "train.info()"
   ]
  },
  {
   "cell_type": "code",
   "execution_count": 103,
   "metadata": {},
   "outputs": [
    {
     "name": "stdout",
     "output_type": "stream",
     "text": [
      "<class 'pandas.core.frame.DataFrame'>\n",
      "RangeIndex: 929615 entries, 0 to 929614\n",
      "Data columns (total 22 columns):\n",
      " #   Column                  Non-Null Count   Dtype         \n",
      "---  ------                  --------------   -----         \n",
      " 0   Month_status_date       929615 non-null  datetime64[ns]\n",
      " 1   Customer_ID             929615 non-null  int64         \n",
      " 2   Employee_Index          929615 non-null  object        \n",
      " 3   Customer_country        929615 non-null  object        \n",
      " 4   Sex                     929615 non-null  object        \n",
      " 5   Age                     929615 non-null  int64         \n",
      " 6   Join_date               929615 non-null  datetime64[ns]\n",
      " 7   New_customer            929615 non-null  int64         \n",
      " 8   Relnshp_Mnths           929615 non-null  int64         \n",
      " 9   Relnshp_flag            929615 non-null  int64         \n",
      " 10  Last_date_Prim_Cust     929615 non-null  object        \n",
      " 11  Cust_type_beg_Mth       929615 non-null  object        \n",
      " 12  Cust_Reln_type_beg_mth  929615 non-null  category      \n",
      " 13  Residence_flag          929615 non-null  object        \n",
      " 14  Forigner_flag           929615 non-null  object        \n",
      " 15  Emp_spouse_flag         929615 non-null  object        \n",
      " 16  Channel_when_joined     929615 non-null  object        \n",
      " 17  Deceased_flag           929615 non-null  object        \n",
      " 18  Address_detail          929615 non-null  object        \n",
      " 19  Activity_flag           929615 non-null  int64         \n",
      " 20  Gross_household_income  929615 non-null  object        \n",
      " 21  Segment                 929615 non-null  object        \n",
      "dtypes: category(1), datetime64[ns](2), int64(6), object(13)\n",
      "memory usage: 149.8+ MB\n"
     ]
    }
   ],
   "source": [
    "test.info()"
   ]
  },
  {
   "cell_type": "code",
   "execution_count": 104,
   "metadata": {},
   "outputs": [],
   "source": [
    "test[\"New_customer\"] = test[\"New_customer\"].astype(\"int8\")\n",
    "test[\"Relnshp_flag\"] = test[\"Relnshp_flag\"].astype(\"int8\")\n",
    "test[\"Cust_type_beg_Mth\"] = test[\"Cust_type_beg_Mth\"].astype(\"object\")\n",
    "test[\"Cust_Reln_type_beg_mth\"] = test[\"Cust_Reln_type_beg_mth\"].astype(\"object\")\n",
    "test[\"Activity_flag\"] = test[\"Activity_flag\"].astype(\"int8\")\n",
    "test[\"Gross_household_income\"] = test[\"Gross_household_income\"].astype(\"float\")"
   ]
  },
  {
   "cell_type": "code",
   "execution_count": 105,
   "metadata": {},
   "outputs": [
    {
     "name": "stdout",
     "output_type": "stream",
     "text": [
      "<class 'pandas.core.frame.DataFrame'>\n",
      "RangeIndex: 929615 entries, 0 to 929614\n",
      "Data columns (total 22 columns):\n",
      " #   Column                  Non-Null Count   Dtype         \n",
      "---  ------                  --------------   -----         \n",
      " 0   Month_status_date       929615 non-null  datetime64[ns]\n",
      " 1   Customer_ID             929615 non-null  int64         \n",
      " 2   Employee_Index          929615 non-null  object        \n",
      " 3   Customer_country        929615 non-null  object        \n",
      " 4   Sex                     929615 non-null  object        \n",
      " 5   Age                     929615 non-null  int64         \n",
      " 6   Join_date               929615 non-null  datetime64[ns]\n",
      " 7   New_customer            929615 non-null  int8          \n",
      " 8   Relnshp_Mnths           929615 non-null  int64         \n",
      " 9   Relnshp_flag            929615 non-null  int8          \n",
      " 10  Last_date_Prim_Cust     929615 non-null  object        \n",
      " 11  Cust_type_beg_Mth       929615 non-null  object        \n",
      " 12  Cust_Reln_type_beg_mth  929615 non-null  object        \n",
      " 13  Residence_flag          929615 non-null  object        \n",
      " 14  Forigner_flag           929615 non-null  object        \n",
      " 15  Emp_spouse_flag         929615 non-null  object        \n",
      " 16  Channel_when_joined     929615 non-null  object        \n",
      " 17  Deceased_flag           929615 non-null  object        \n",
      " 18  Address_detail          929615 non-null  object        \n",
      " 19  Activity_flag           929615 non-null  int8          \n",
      " 20  Gross_household_income  929615 non-null  float64       \n",
      " 21  Segment                 929615 non-null  object        \n",
      "dtypes: datetime64[ns](2), float64(1), int64(3), int8(3), object(13)\n",
      "memory usage: 137.4+ MB\n"
     ]
    }
   ],
   "source": [
    "test.info()"
   ]
  },
  {
   "cell_type": "code",
   "execution_count": 106,
   "metadata": {},
   "outputs": [],
   "source": [
    "train.to_csv('Train_Cleaned.csv', index=False)"
   ]
  },
  {
   "cell_type": "code",
   "execution_count": 107,
   "metadata": {},
   "outputs": [],
   "source": [
    "test.to_csv('Test_Cleaned.csv', index=False)"
   ]
  }
 ],
 "metadata": {
  "kernelspec": {
   "display_name": "Python 3",
   "language": "python",
   "name": "python3"
  },
  "language_info": {
   "codemirror_mode": {
    "name": "ipython",
    "version": 3
   },
   "file_extension": ".py",
   "mimetype": "text/x-python",
   "name": "python",
   "nbconvert_exporter": "python",
   "pygments_lexer": "ipython3",
   "version": "3.7.6"
  }
 },
 "nbformat": 4,
 "nbformat_minor": 4
}
